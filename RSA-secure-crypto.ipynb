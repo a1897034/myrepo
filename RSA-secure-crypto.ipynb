{
 "cells": [
  {
   "cell_type": "code",
   "execution_count": 1,
   "id": "b8e4c916",
   "metadata": {
    "jupyter": {
     "is_executing": true
    }
   },
   "outputs": [
    {
     "name": "stdout",
     "output_type": "stream",
     "text": [
      "Defaulting to user installation because normal site-packages is not writeable\n",
      "Requirement already satisfied: pycryptodome in /Users/max/Library/Python/3.10/lib/python/site-packages (3.22.0)\n",
      "Requirement already satisfied: cryptography in /Users/max/Library/Python/3.10/lib/python/site-packages (44.0.2)\n",
      "Requirement already satisfied: cffi>=1.12 in /Users/max/Library/Python/3.10/lib/python/site-packages (from cryptography) (1.16.0)\n",
      "Requirement already satisfied: pycparser in /Users/max/Library/Python/3.10/lib/python/site-packages (from cffi>=1.12->cryptography) (2.21)\n"
     ]
    }
   ],
   "source": [
    "\"\"\"Installing all the relevant packages for testing.\"\"\"\n",
    "!pip install pycryptodome cryptography"
   ]
  },
  {
   "cell_type": "code",
   "execution_count": 2,
   "id": "bc6fc184-c7f9-49f8-8b18-2c8a06dc1326",
   "metadata": {
    "jupyter": {
     "is_executing": true
    }
   },
   "outputs": [],
   "source": [
    "\"\"\"Importing all necessary modules from pycryptodome and cryptography packages for the algorithm.\"\"\"\n",
    "from cryptography.hazmat.primitives import asymmetric, serialization, hashes\n",
    "from cryptography.hazmat.primitives.asymmetric import padding\n",
    "from Crypto.PublicKey import RSA\n",
    "from Crypto.Cipher import AES, DES, PKCS1_OAEP\n",
    "from Crypto.Random import get_random_bytes\n",
    "from Crypto.Util.number import getPrime\n",
    "from Crypto.Util.Padding import pad, unpad\n",
    "import socket\n",
    "import base64\n",
    "import time\n",
    "import hashlib\n",
    "\n",
    "\"\"\"Creating a suitable class in order to encrypt and decrypt messages using the algorithms.\"\"\"\n",
    "class RSACrypto:\n",
    "    def __init__(self, key_size=2048, public_exponent=65537, prime_size=1024, hash_function='SHA-256'):\n",
    "        \"\"\"Initializes all the evaluation parameters for the algorithm.\"\"\"\n",
    "        self.key_size = key_size\n",
    "        self.key_size = key_size\n",
    "        self.public_exponent = public_exponent\n",
    "        self.hash_function = hash_function\n",
    "        self.prime_size = prime_size\n",
    "        self.RSA_generation_time = None\n",
    "        self.DES_generation_time = None\n",
    "        self.generate_keys()\n",
    "        \n",
    "    def generate_keys(self):\n",
    "        \"\"\"Generates RSA key pair with defined parameters.\"\"\"\n",
    "        start_time = time.time()\n",
    "        key = RSA.generate(self.key_size, e=self.public_exponent)\n",
    "        self.private_key = key.export_key()\n",
    "        self.public_key = key.publickey().export_key()\n",
    "        self.RSA_generation_time = time.time() - start_time\n",
    "        \n",
    "    def generate_AES_key(self):\n",
    "        \"\"\"Generates a single key for AES (Advanced Encryption Standard).\"\"\"\n",
    "        start_time = time.time()\n",
    "        key = get_random_bytes(16)\n",
    "        end_time = time.time()\n",
    "        self.AES_generation_time = end_time - start_time\n",
    "        return key, self.AES_generation_time\n",
    "\n",
    "    def generate_DES_key(self):\n",
    "        \"\"\"Generates a single key for DES (Data Encryption Standard).\"\"\"\n",
    "        start_time = time.time()\n",
    "        key = get_random_bytes(8)\n",
    "        end_time = time.time()\n",
    "        self.DES_generation_time = end_time - start_time\n",
    "        return key, self.DES_generation_time\n",
    "    \n",
    "    def public_encrypt(self, message):\n",
    "        \"\"\"Encrypts a message using the public key.\"\"\"\n",
    "        if self.public_key is None:\n",
    "            raise ValueError(\"Public key not generated or loaded.\")\n",
    "        key = RSA.import_key(self.public_key)\n",
    "        cipher = PKCS1_OAEP.new(key)\n",
    "        encrypted_message = cipher.encrypt(message.encode())\n",
    "        return encrypted_message\n",
    "    \n",
    "    def private_decrypt(self, encoded_message):\n",
    "        \"\"\"Decrypts a message using the private key.\"\"\"\n",
    "        if self.private_key is None:\n",
    "            raise ValueError(\"Private key not available.\")\n",
    "        \n",
    "        key = RSA.import_key(self.private_key)\n",
    "        cipher = PKCS1_OAEP.new(key)\n",
    "        decrypted_message = cipher.decrypt(encoded_message)\n",
    "        return decrypted_message.decode()\n",
    "\n",
    "    def get_security_parameters(self):\n",
    "        \"\"\"Returns security-related parameters.\"\"\"\n",
    "        return {\n",
    "            'Key Size': self.key_size,\n",
    "            'Public Exponent': self.public_exponent,\n",
    "            'Prime Size': self.prime_size,\n",
    "            'Hash Function': self.hash_function,\n",
    "            'RSA Key Generation Time': self.RSA_generation_time,\n",
    "            'DES Key Generation Time': self.DES_generation_time\n",
    "        }"
   ]
  },
  {
   "cell_type": "code",
   "execution_count": 3,
   "id": "a81bc4b3-dd27-4a04-b0b7-4da311557655",
   "metadata": {
    "jupyter": {
     "is_executing": true
    }
   },
   "outputs": [
    {
     "name": "stdout",
     "output_type": "stream",
     "text": [
      "{'mdc2', 'sha3_512', 'sha3_224', 'sha1', 'sha3_384', 'shake_128', 'md4', 'sha224', 'sha384', 'shake_256', 'sha512', 'sha512_224', 'sha256', 'blake2b', 'sha3_256', 'blake2s', 'md5', 'whirlpool', 'sha512_256', 'sm3', 'md5-sha1', 'ripemd160'}\n"
     ]
    }
   ],
   "source": [
    "\"\"\"Printing names of available hash functions.\"\"\"\n",
    "print(hashlib.algorithms_available)"
   ]
  },
  {
   "cell_type": "code",
   "execution_count": 4,
   "id": "33d30079-5f30-4845-93cd-2095b72cad12",
   "metadata": {
    "jupyter": {
     "is_executing": true
    }
   },
   "outputs": [
    {
     "name": "stdin",
     "output_type": "stream",
     "text": [
      "Please enter a message: Hello, World!\n"
     ]
    },
    {
     "name": "stdout",
     "output_type": "stream",
     "text": [
      "b'\\xa6\\x01\\xf8\\x80\\xec\\xc3\\x0ft \\x1c\\x86>\\x03\\xda\\x81\\xa8`X\\x9c\\x81\\xe5\\x9d\\xc1\\x04\\xad\\xe5\\\\\\xf3^\\xa4?\\xb6C\\xa6$\\xa4\\x92\\xa3|%\\xad\\x91\\x98\\xe7\\x1en\\xc9lo\\xa3\\xb0X\\x0c\\x06\\xe7\\xb7\\x85I\\\\\\x07\\xb22\"\\x88/J\\x88\\xcd>\\xd8Y\\xf4rF&\\xe3\\xcf\\xcane\\x87\\xad\\x9e\\xb3D\\x1b\\xd5\\xe3\\x14\\xbd!\\xe9e\\xbd\\xfa\\x9c|u\\xf9s7e\\xa9$/\\x07\\x95U\\xcd{\\xd5ZK\\x91 \\xf2z59G\\x82\\x15n\\xe3r\\xe3\\x86X\\xd1\\x7f\\xe1\\xe5\\x96\\xd98\\x05?\\x1d\\xde\\xe64\\xdc\\xfc\\x04\\x8a\\xe4\\xcf@\\x8e\\xbb^\\xe3\\xbf^\\x83\\x19\\x1e\\xaf\\x10O8\\r_\\xa8]f\\x08\\x0cB\\xb9\\xaf[\\xf3\\x80\\xbc\\xfe\\x0f\\xea+\\x1b\\xc0\\x87\\x8a\\xa7Z\\x9dQ(q\\x15\\x15\\x85\\x12\\xbe!t\\x8a\\\\L\\x10\\x02\\x8aL\\x9d\\xbd~5`pC_3\\xbf(\\x87\\x92\\xba\\x102\\x9e\\t\\x0c\\xf2\\xfc\\x8e\\xad\\xdd\\x95\\x9fY\\x04\\xdf]\\x14\\xc2\\xa8o\\xb5\\xd1w{\\xe3?\\xb5\\x15\\xfa\\xe9\\xf0\\xdb\\x94\\x7f\\xea\\x93\\x1c\\xae;'\n",
      "256\n",
      "Hello, World!\n",
      "{'Key Size': 2048, 'Public Exponent': 65537, 'Prime Size': 1024, 'Hash Function': 'sha256', 'RSA Key Generation Time': 1.584089994430542, 'DES Key Generation Time': None}\n",
      "b'\\xf7?r=G=\\x91\\xe6\\x07\\xb6I\\xc4e\\x87.\\xd7\\x89\\x1c\\x81\\x91\\xfd\\xe4n\\xa1\\x07\\xcc\\xb3\\xc3\\x82\\xee\"\\xee'\n",
      "32\n",
      "Hello, World!\n",
      "(b'x\\x97\\xe0tN\\xdd\\xa8y\\x03ee.\\xa1\\xfe\\xe8\\x9a', 1.9073486328125e-06)\n",
      "Time Difference = 1.5840880870819092\n",
      "RSA is a more secure algorithm than AES since the difference in generation time 1.5840880870819092>0 implying that AES is faster and therefore less secure and AES will only accept two key parameters out of RSA (key size and generation time) since RSA generates prime numbers and incurs hash functions but AES does not do either of these.\n",
      "b'r\\xca\\x00h\\x87f\\x03\\xfb\\xbd\\x17:\\xf3\\xc8y6{'\n",
      "16\n",
      "Hello, World!\n",
      "(b'S_\\xf4\\xe1\\xf3[v\\x89', 2.1457672119140625e-06)\n",
      "Time Difference = 1.58408784866333\n",
      "RSA is a more secure algorithm than DES since the difference in generation time 1.58408784866333>0 implying that DES is faster and therefore less secure and DES will only accept two key parameters out of RSA (key size and generation time) since RSA generates prime numbers and incurs hash functions but DES does not do either of these.\n"
     ]
    }
   ],
   "source": [
    "\"\"\"Using if statement to develop user input prototype for testing the algorithms RSA, AES and DES.\"\"\"\n",
    "if __name__ == \"__main__\":\n",
    "    rsa = RSACrypto(key_size=2048, hash_function='sha256')\n",
    "    user_input = input(\"Please enter a message:\")\n",
    "    encrypted_message = rsa.public_encrypt(user_input)\n",
    "    decrypted_message = rsa.private_decrypt(encrypted_message)\n",
    "    print(encrypted_message)\n",
    "    print(len(encrypted_message))\n",
    "    print(decrypted_message)\n",
    "    print(rsa.get_security_parameters())\n",
    "    key_1 = get_random_bytes(16)\n",
    "    AES_instance = AES.new(key_1, AES.MODE_ECB)\n",
    "    encrypted_AES = AES_instance.encrypt(pad(user_input.encode('utf-16'), AES.block_size))\n",
    "    decrypted_AES = unpad(AES_instance.decrypt(encrypted_AES), AES.block_size)\n",
    "    print(encrypted_AES)\n",
    "    print(len(encrypted_AES))\n",
    "    print(decrypted_AES.decode('utf-16'))\n",
    "    print(rsa.generate_AES_key())\n",
    "    difference_1 = rsa.RSA_generation_time - rsa.AES_generation_time\n",
    "    print(\"Time Difference =\",difference_1)\n",
    "    print(f\"RSA is a more secure algorithm than AES since the difference in generation time {difference_1}>0 implying that AES is faster and therefore less secure and AES will only accept two key parameters out of RSA (key size and generation time) since RSA generates prime numbers and incurs hash functions but AES does not do either of these.\")\n",
    "    key_2 = get_random_bytes(8)\n",
    "    DES_instance = DES.new(key_2, DES.MODE_ECB)\n",
    "    encrypted_DES = DES_instance.encrypt(pad(user_input.encode('utf-8'), DES.block_size))\n",
    "    decrypted_DES = unpad(DES_instance.decrypt(encrypted_DES), DES.block_size)\n",
    "    print(encrypted_DES)\n",
    "    print(len(encrypted_DES))\n",
    "    print(decrypted_DES.decode('utf-8'))\n",
    "    print(rsa.generate_DES_key())\n",
    "    difference_2 = rsa.RSA_generation_time - rsa.DES_generation_time\n",
    "    print(\"Time Difference =\",difference_2)\n",
    "    print(f\"RSA is a more secure algorithm than DES since the difference in generation time {difference_2}>0 implying that DES is faster and therefore less secure and DES will only accept two key parameters out of RSA (key size and generation time) since RSA generates prime numbers and incurs hash functions but DES does not do either of these.\")"
   ]
  },
  {
   "cell_type": "code",
   "execution_count": 5,
   "id": "65b2bcbdece58f78",
   "metadata": {},
   "outputs": [
    {
     "name": "stdin",
     "output_type": "stream",
     "text": [
      "Please enter a message: Hi, I am Max.\n"
     ]
    },
    {
     "name": "stdout",
     "output_type": "stream",
     "text": [
      "b'\\x04\\xa7\\x10\\xc9\\x06\\xb4\\xea\\xf2\\x9c\\xd9\\x05:vD\\n\\xebX\\xbe\\x8cH\\xac\\xd8\\x8a$\\xe5\\xdd\\xb7\\xd8+zAV\\xd1\\xa3H\\x81\\xae0\\xbf\\xf3m\\x8f\\\\@\\xc5/\\xce\\x84\\xb5j,a\\x82\\xae\\xdbPO\\x0fC\\xd2\\x03\\x12\\x86S\\x11\\x98\\xb1\\xc3\\xc6\\x17\\xa6\\xa1\\xd5PR\\x83l\\x0c\\xd7\\xbf\\xfb\\xca\\x7f\\xf3\\x0b+\\x9c/n\\x82\\x99\\x1f\\x9c\\xa62\\xb4\\xbc\\nq\\x94\\xe0\\xfbA\\x94\\x16\\x8cY\\x86=Q5\\x1cL\\x0e]%-\\x8f\\xb2\\xf4\\xe5\\x1b\\xbc\\x0f\\xecr\\xcbK\\xbb1\\xcf\\xab\\xc7\\xaf\\xd0.S)\\x00\\x0e\\xecw@\\xd9\\x14\\xe9BVq\\x11h\\xe4\\xfe^\\x96\\xb4\\xc4\\xabj<\\xbef\\xd7 \\xc0\\xd9\\x8f\\x8f\\xd1\\x7f\\x88\\xb9)\\xb2\\xea\\xe0\\x1cY\\xde#\\xd6*\\x8c\\x80/Z-\\xdb\\xfd\\xf4\\x9c\\xd7\\x1e\\xf4\\x85T\\xd3\\x8e\\xa6\\x8a\\xa3\\x8e\\xf9\\xc8\\x80\\xe5\\xe9*n\\xb1\\x9d\\xbbr1r\\xc6Z\\xda\\xa8\\xd35\\xd3\\x04v\\xdc\\x98\\xf1\\xbc\\x80/\\x9eb\\x01\\x91*\\x96S\\xe45\\x9e\\xd7V\\xad\\xdd\\xd5\\xd7Tw\\x84\\x16\\xb3\\\\\\xe2\\x806d'\n",
      "256\n",
      "Hi, I am Max.\n",
      "{'Key Size': 2048, 'Public Exponent': 65537, 'Prime Size': 1024, 'Hash Function': 'sha256', 'RSA Key Generation Time': 0.5455508232116699, 'DES Key Generation Time': None}\n",
      "b'\\xca\\xa3\\x7f\\xeb*\\x06\\xd57N+\\rq\\x17\\xfd:\\xf4\\xf7\\\\\\xe3N\\xde\\xf3\\xee\\xb6\\xd9\\x1b\\xdeK\\xf0\\x9a4\\xaa'\n",
      "32\n",
      "Hi, I am Max.\n",
      "(b'_\\xa9w\\xc6\\xde5.\\xdddk\\xec\\xb0\\x97\\x97\\xc2\\x1c', 3.0994415283203125e-06)\n",
      "Time Difference = 0.5455477237701416\n",
      "RSA is a more secure algorithm than AES since the difference in generation time 0.5455477237701416>0 implying that AES is faster and therefore less secure and AES will only accept two key parameters out of RSA (key size and generation time) since RSA generates prime numbers and incurs hash functions but AES does not do either of these.\n",
      "b'zq\\xdb\\xc9\\xa6\\xeb\\xb8\\xa4\\xac\\xae,\\x83\\x1e~\\x8dH'\n",
      "16\n",
      "Hi, I am Max.\n",
      "(b'\\x0c\\xf4\\xca_\\x1fX\\x91M', 2.1457672119140625e-06)\n",
      "Time Difference = 0.545548677444458\n",
      "RSA is a more secure algorithm than DES since the difference in generation time 0.545548677444458>0 implying that DES is faster and therefore less secure and DES will only accept two key parameters out of RSA (key size and generation time) since RSA generates prime numbers and incurs hash functions but DES does not do either of these.\n"
     ]
    }
   ],
   "source": [
    "\"\"\"Using if statement to develop user input prototype for testing the algorithms RSA, AES and DES.\"\"\"\n",
    "if __name__ == \"__main__\":\n",
    "    rsa = RSACrypto(key_size=2048, hash_function='sha256')\n",
    "    user_input = input(\"Please enter a message:\")\n",
    "    encrypted_message = rsa.public_encrypt(user_input)\n",
    "    decrypted_message = rsa.private_decrypt(encrypted_message)\n",
    "    print(encrypted_message)\n",
    "    print(len(encrypted_message))\n",
    "    print(decrypted_message)\n",
    "    print(rsa.get_security_parameters())\n",
    "    key_1 = get_random_bytes(16)\n",
    "    AES_instance = AES.new(key_1, AES.MODE_ECB)\n",
    "    encrypted_AES = AES_instance.encrypt(pad(user_input.encode('utf-16'), AES.block_size))\n",
    "    decrypted_AES = unpad(AES_instance.decrypt(encrypted_AES), AES.block_size)\n",
    "    print(encrypted_AES)\n",
    "    print(len(encrypted_AES))\n",
    "    print(decrypted_AES.decode('utf-16'))\n",
    "    print(rsa.generate_AES_key())\n",
    "    difference_1 = rsa.RSA_generation_time - rsa.AES_generation_time\n",
    "    print(\"Time Difference =\",difference_1)\n",
    "    print(f\"RSA is a more secure algorithm than AES since the difference in generation time {difference_1}>0 implying that AES is faster and therefore less secure and AES will only accept two key parameters out of RSA (key size and generation time) since RSA generates prime numbers and incurs hash functions but AES does not do either of these.\")\n",
    "    key_2 = get_random_bytes(8)\n",
    "    DES_instance = DES.new(key_2, DES.MODE_ECB)\n",
    "    encrypted_DES = DES_instance.encrypt(pad(user_input.encode('utf-8'), DES.block_size))\n",
    "    decrypted_DES = unpad(DES_instance.decrypt(encrypted_DES), DES.block_size)\n",
    "    print(encrypted_DES)\n",
    "    print(len(encrypted_DES))\n",
    "    print(decrypted_DES.decode('utf-8'))\n",
    "    print(rsa.generate_DES_key())\n",
    "    difference_2 = rsa.RSA_generation_time - rsa.DES_generation_time\n",
    "    print(\"Time Difference =\",difference_2)\n",
    "    print(f\"RSA is a more secure algorithm than DES since the difference in generation time {difference_2}>0 implying that DES is faster and therefore less secure and DES will only accept two key parameters out of RSA (key size and generation time) since RSA generates prime numbers and incurs hash functions but DES does not do either of these.\")"
   ]
  },
  {
   "cell_type": "code",
   "execution_count": 6,
   "id": "83c6215f-e8e1-42c7-ab3c-9c7d896ce2b7",
   "metadata": {},
   "outputs": [
    {
     "name": "stdin",
     "output_type": "stream",
     "text": [
      "Please enter a message: How I wish I could calculate pi.\n"
     ]
    },
    {
     "name": "stdout",
     "output_type": "stream",
     "text": [
      "b\"(eY\\x8b\\xd5\\x7f#\\x1e\\xd0z@\\xfd\\xb5\\xd7\\xd1\\x02\\xa9\\xf4\\x99\\x9c#\\x85\\x10\\xe8\\xccno\\x8emZD\\x06\\x8d\\xbe\\xbe\\x06\\xe8_\\xcaPI;U\\x1781\\xb6\\x00i\\r\\xe6.\\x98@\\x8fCb\\\\_\\x9c\\xba!\\xeav\\xa8bxO\\xd2(\\xb3\\r\\x1eT\\x1c\\n\\x8d\\x95\\x10V\\xbd;\\x106s\\xae\\x07\\x14\\x12\\xce\\xb1I\\\\\\x05#z\\xf2\\xdb\\xd5C\\xe7\\xc2\\x8eoq\\xeb\\xcf\\xd5m\\x8d\\xe6'08\\x15l\\xa5\\xc55C\\xc2HAS#\\xce\\xd4P\\xd9\\xca\\xefl(4[b5Y[\\x8a\\x92r\\xbac\\xfd\\x95\\xbb^H\\xa2\\x9f\\xe9\\xfd+\\xa5ph\\xc3\\x86\\xf9\\xe2\\x82\\xc6\\xeb\\x10\\xa9\\x8f\\xa1\\xd4\\xea\\x88\\x16q\\x7f\\x900qP\\x9c\\xdc6\\x91\\x0b\\x0c\\xab}W\\x88\\xa5\\xbbZ\\xd6Bb:\\xa2\\xe3b \\x00\\xfd\\xf8R+\\x82\\xd8\\x98\\x98w\\xbc\\xfdi\\x18\\x9f\\xe6,u\\x0b\\xa1H\\xfd\\xda\\xbd\\x8dXc\\x17\\xc4rM_wl\\xc1j\\xa5\\xe8\\x0c\\xa8\\r\\x18(\\xc4\\xa7,og\\xecF\\x91Ny\\x06cRf\"\n",
      "256\n",
      "How I wish I could calculate pi.\n",
      "{'Key Size': 2048, 'Public Exponent': 65537, 'Prime Size': 1024, 'Hash Function': 'sha256', 'RSA Key Generation Time': 1.2066709995269775, 'DES Key Generation Time': None}\n",
      "b'\\xec\\xf6\\x7fGE\\xbc\\tWI\\x88\\x18\\xcbM\\x1e\\xcb\\x95\\x95]JT\\xc6\\x0fF\\x88\\xf1\\xb4\"d\\x8a\\x03a\\x1dq\\rAw\\xc0\\xe7\\xd5u\\xda\\xbb\\x88\\x01\\x88t\\xda\\x00\\xac\\x94\\x0e\\x10\\x99\\xdf\\xf2\\x1f\\x1d\\x02\\xc4\\x94\\x9e\\xd0\\x85\\x1e\\xdc\\xf1\\x83\\x9a\\x93\\x1b\\xd6\\xab\\xfe\\xd6\\xe4\\'\\xf7\\t]\"'\n",
      "80\n",
      "How I wish I could calculate pi.\n",
      "(b'\\xe9\\x9bm\\xab\\xe9\\xc2\\x19[;\\x07b\\xe8\\xe2z>\\xdf', 2.86102294921875e-06)\n",
      "Time Difference = 1.2066681385040283\n",
      "RSA is a more secure algorithm than AES since the difference in generation time 1.2066681385040283>0 implying that AES is faster and therefore less secure and AES will only accept two key parameters out of RSA (key size and generation time) since RSA generates prime numbers and incurs hash functions but AES does not do either of these.\n",
      "b'\\x8aC\\xe3\\xf58\\x19\\xc2 \\xd4 \\tW\\x87\\x97v\\rH\\xf3\\xf2\\xbc\\xb4\\xe9\\x84\\xaax\\x8d\\x9a\\x17pL\\x83\\xfa\\x1c05\\x11\\x95\\x06\\xf3\\x08'\n",
      "40\n",
      "How I wish I could calculate pi.\n",
      "(b'\\xc3\\x89_\\x83e\\xb5\\x00\\x95', 2.1457672119140625e-06)\n",
      "Time Difference = 1.2066688537597656\n",
      "RSA is a more secure algorithm than DES since the difference in generation time 1.2066688537597656>0 implying that DES is faster and therefore less secure and DES will only accept two key parameters out of RSA (key size and generation time) since RSA generates prime numbers and incurs hash functions but DES does not do either of these.\n"
     ]
    }
   ],
   "source": [
    "\"\"\"Using if statement to develop user input prototype for testing the algorithms RSA, AES and DES.\"\"\"\n",
    "if __name__ == \"__main__\":\n",
    "    rsa = RSACrypto(key_size=2048, hash_function='sha256')\n",
    "    user_input = input(\"Please enter a message:\")\n",
    "    encrypted_message = rsa.public_encrypt(user_input)\n",
    "    decrypted_message = rsa.private_decrypt(encrypted_message)\n",
    "    print(encrypted_message)\n",
    "    print(len(encrypted_message))\n",
    "    print(decrypted_message)\n",
    "    print(rsa.get_security_parameters())\n",
    "    key_1 = get_random_bytes(16)\n",
    "    AES_instance = AES.new(key_1, AES.MODE_ECB)\n",
    "    encrypted_AES = AES_instance.encrypt(pad(user_input.encode('utf-16'), AES.block_size))\n",
    "    decrypted_AES = unpad(AES_instance.decrypt(encrypted_AES), AES.block_size)\n",
    "    print(encrypted_AES)\n",
    "    print(len(encrypted_AES))\n",
    "    print(decrypted_AES.decode('utf-16'))\n",
    "    print(rsa.generate_AES_key())\n",
    "    difference_1 = rsa.RSA_generation_time - rsa.AES_generation_time\n",
    "    print(\"Time Difference =\",difference_1)\n",
    "    print(f\"RSA is a more secure algorithm than AES since the difference in generation time {difference_1}>0 implying that AES is faster and therefore less secure and AES will only accept two key parameters out of RSA (key size and generation time) since RSA generates prime numbers and incurs hash functions but AES does not do either of these.\")\n",
    "    key_2 = get_random_bytes(8)\n",
    "    DES_instance = DES.new(key_2, DES.MODE_ECB)\n",
    "    encrypted_DES = DES_instance.encrypt(pad(user_input.encode('utf-8'), DES.block_size))\n",
    "    decrypted_DES = unpad(DES_instance.decrypt(encrypted_DES), DES.block_size)\n",
    "    print(encrypted_DES)\n",
    "    print(len(encrypted_DES))\n",
    "    print(decrypted_DES.decode('utf-8'))\n",
    "    print(rsa.generate_DES_key())\n",
    "    difference_2 = rsa.RSA_generation_time - rsa.DES_generation_time\n",
    "    print(\"Time Difference =\",difference_2)\n",
    "    print(f\"RSA is a more secure algorithm than DES since the difference in generation time {difference_2}>0 implying that DES is faster and therefore less secure and DES will only accept two key parameters out of RSA (key size and generation time) since RSA generates prime numbers and incurs hash functions but DES does not do either of these.\")"
   ]
  },
  {
   "cell_type": "code",
   "execution_count": 7,
   "id": "54396b86-30e6-4239-b2b0-0a54403a86b1",
   "metadata": {},
   "outputs": [
    {
     "name": "stdin",
     "output_type": "stream",
     "text": [
      "Please enter a message: The quick brown fox jumps over the lazy dog.\n"
     ]
    },
    {
     "name": "stdout",
     "output_type": "stream",
     "text": [
      "b'/\\xffJ\\xa7\\x03\\x12!\\xf4#a\\x1e5\\x12\\xb1K^9\\xf1\\x9eD{\\x86MO_\\x15%y\\x98G\\x7f\\xf3\\xd7j\\x1c\\xb0\\x1f\\xb9\\xe4\\xb8\\xfb\\xc1\\xe48\\xc7f\\xb3\\x9c\\xa6^\\xe9dy\\xccs\\xd6\\xa6\\x16\\xd2\\xa9L\\xecXk\\xc6+\\xee\\x9ez?U\\x9fBn\\x9e\\xca\\xc4\\xa4\\xc0\\x00]Z\\x1f\\xad\\x9cqP\\xe0\\x9cO3\\x98\\x087\\xab\\x89\\x9e\\xeb\\x87w\\x1f\\xd3z\\xeb\\xca\\x8f\\x99\\x9c\\xa7\\x12M\\xe1\\x84\\xcd.\\x90\\x90Cb\\x99\\x92:\\xd6-\\x9cQ\\xe5\\xffv\\xdc\\\\\\x0f^\\x12\\x98\\x7f\\x800\\xc5\\xaf\\xd0\\xff\\x93[9\\xd9\\xf1\\x8af\\xa1h\\xa0\\xc3\\x1c\\xfcv\\xed\\xa7\\x05\\x1a_\\x91\\n\\x17\\xe5\\\\\\xb7\\\\\\x11\\xcd\\xdc\\x93>IZ\\x91X\\x07d\\x1b\\x14\\xee\\xaa*\\x9c\\x11\".\\x07\\x9aJ\\xdd\\x1d\\x94r\\xe9ySB\\xa2\\x94\\xd96\\x8cs\\xeb\\xa55Y\\x9f\\t\\x1a\\x1d\\x1dO3iOq\\xc6\\x0bwy_g\\x15\\xb3$\\x0c\\xcd\\x02\\xcb\\xcc.\\xd94\\xe9\\xbb\\xb8\\x8d\\xca;%\\x934i\\xc5\\xc8\\x01#\\xb9\\x9ds6\\xb8\\x84'\n",
      "256\n",
      "The quick brown fox jumps over the lazy dog.\n",
      "{'Key Size': 2048, 'Public Exponent': 65537, 'Prime Size': 1024, 'Hash Function': 'sha256', 'RSA Key Generation Time': 2.513355016708374, 'DES Key Generation Time': None}\n",
      "b'/\\xae\\xd4u6c\\xe0\\xb1E\\xce\\x8a\\x00\\xe9c{\\x85\\xcc\\xe8\\xfe\\xa5\\t\\x05\\xca\\xf9\\xdb\\xb9:\\x83\\xb0\\xdd\\x92\\x0e\\xb8\\x19\\xd5\\x92\\xda\\x1d\\xe6\\xd4\\xca\\x85\\xb0\\xd5\\xd6t\\x05q\\xc7\\xb1\\xae\\xa31\\x9aa\\x9f\\x8f\\x07\\x15\\x9aH\\x03R\\xd4\\xd9\\xd7\\x04\\xd3\\xaa\\x96l\\xf9\\x1e\\x00w+\\xdd\\xee\\x16\\n\\x93\\x8e,i\\xa6\\x14\\xfdn\\xc1J}Q\\x98\"\\xefk'\n",
      "96\n",
      "The quick brown fox jumps over the lazy dog.\n",
      "(b'\\x1d\\xfe\\xb3\\x96\\xa5\\r\\x03\\x93V\\xeb\\xe6\\xb0\\x95\\x98\\xfc\\xa1', 3.0994415283203125e-06)\n",
      "Time Difference = 2.5133519172668457\n",
      "RSA is a more secure algorithm than AES since the difference in generation time 2.5133519172668457>0 implying that AES is faster and therefore less secure and AES will only accept two key parameters out of RSA (key size and generation time) since RSA generates prime numbers and incurs hash functions but AES does not do either of these.\n",
      "b\"{\\xe3\\xa4\\xc55\\x17]\\xcc\\xd5\\xb7\\x93\\x03\\xc1\\xadJ\\xe9\\xb1\\xc2Y(\\x13\\xf2\\xd2\\x87\\xe5M\\xfbd\\x02Hd\\x8a\\xbb\\xd8\\xcbd4\\n\\xb5\\xef?>/.cg\\xcd'\"\n",
      "48\n",
      "The quick brown fox jumps over the lazy dog.\n",
      "(b'\\xedB\\x93\\x8d,L<\\xc1', 1.9073486328125e-06)\n",
      "Time Difference = 2.513353109359741\n",
      "RSA is a more secure algorithm than DES since the difference in generation time 2.513353109359741>0 implying that DES is faster and therefore less secure and DES will only accept two key parameters out of RSA (key size and generation time) since RSA generates prime numbers and incurs hash functions but DES does not do either of these.\n"
     ]
    }
   ],
   "source": [
    "\"\"\"Using if statement to develop user input prototype for testing the algorithms RSA, AES and DES.\"\"\"\n",
    "if __name__ == \"__main__\":\n",
    "    rsa = RSACrypto(key_size=2048, hash_function='sha256')\n",
    "    user_input = input(\"Please enter a message:\")\n",
    "    encrypted_message = rsa.public_encrypt(user_input)\n",
    "    decrypted_message = rsa.private_decrypt(encrypted_message)\n",
    "    print(encrypted_message)\n",
    "    print(len(encrypted_message))\n",
    "    print(decrypted_message)\n",
    "    print(rsa.get_security_parameters())\n",
    "    key_1 = get_random_bytes(16)\n",
    "    AES_instance = AES.new(key_1, AES.MODE_ECB)\n",
    "    encrypted_AES = AES_instance.encrypt(pad(user_input.encode('utf-16'), AES.block_size))\n",
    "    decrypted_AES = unpad(AES_instance.decrypt(encrypted_AES), AES.block_size)\n",
    "    print(encrypted_AES)\n",
    "    print(len(encrypted_AES))\n",
    "    print(decrypted_AES.decode('utf-16'))\n",
    "    print(rsa.generate_AES_key())\n",
    "    difference_1 = rsa.RSA_generation_time - rsa.AES_generation_time\n",
    "    print(\"Time Difference =\",difference_1)\n",
    "    print(f\"RSA is a more secure algorithm than AES since the difference in generation time {difference_1}>0 implying that AES is faster and therefore less secure and AES will only accept two key parameters out of RSA (key size and generation time) since RSA generates prime numbers and incurs hash functions but AES does not do either of these.\")\n",
    "    key_2 = get_random_bytes(8)\n",
    "    DES_instance = DES.new(key_2, DES.MODE_ECB)\n",
    "    encrypted_DES = DES_instance.encrypt(pad(user_input.encode('utf-8'), DES.block_size))\n",
    "    decrypted_DES = unpad(DES_instance.decrypt(encrypted_DES), DES.block_size)\n",
    "    print(encrypted_DES)\n",
    "    print(len(encrypted_DES))\n",
    "    print(decrypted_DES.decode('utf-8'))\n",
    "    print(rsa.generate_DES_key())\n",
    "    difference_2 = rsa.RSA_generation_time - rsa.DES_generation_time\n",
    "    print(\"Time Difference =\",difference_2)\n",
    "    print(f\"RSA is a more secure algorithm than DES since the difference in generation time {difference_2}>0 implying that DES is faster and therefore less secure and DES will only accept two key parameters out of RSA (key size and generation time) since RSA generates prime numbers and incurs hash functions but DES does not do either of these.\")"
   ]
  },
  {
   "cell_type": "code",
   "execution_count": 8,
   "id": "ca69b840-3630-4f53-9940-c109bc37870d",
   "metadata": {},
   "outputs": [
    {
     "name": "stdin",
     "output_type": "stream",
     "text": [
      "Please enter a message: And miles to walk before I sleep, and miles to walk before I sleep.\n"
     ]
    },
    {
     "name": "stdout",
     "output_type": "stream",
     "text": [
      "b'\\x81\\xe6BoP\\x87c\\xd1\\xa1\\xf4\\x1c\\x0f\\x06\\xe2\\x86\\xd3\\xc0M\\xd0\\xf7I\\xc0\\xba\\xec\\xf8\\xea\\x82\\x88\\x9b%\\xc2X2,\\x81\\xfcw\\xd7\"\\xbf\\xf8q\\x1c\\xca;\\xd2\\x89j\\xd2r\\x89 \\x1bF,\\xba\\xf7\\t\\x1c\\xd8\\nU\\x17\\xf9FE\\xe6J!\\x99\\x00\\xee\\xd2\\xe5=C\\xaf\\xb4[\\xc6)\\xe8}y\\x14m\\xd4}K-\\x16-+|\\x12\\xa6\\xbd\\xbd\\x98Bggf\\x88\\xf6\\x1d\\xf1\\xaa\\x96\\x84\\x1b\\xb3*uL|\\xe5 8\\xb8\\xe7\\x92\\xa9\\x87(\\xd9\\xfd\\x9ew\\xc4w^Yg\\xc1\\xf2,\\xaf{0\\xea\\x06\\x96K\\xec\\x8b\\xb9w\\x86\\x97\\x9dW\\x9d\\xd4/\\x1b\\x1c\\x1aon\\xf6\\x1fW\\xde\\xec\\xfao\\xf9P}c\\xa2\\x16\\x8a\\xfb\\x9b\\x07\\xc7IU|f\\xaad\\xbd1\\x00\\x8bWi\\xf4\\xb4t\\x16Z9\\xc5\\xbe\\xfcX6\\x9e\\x1c\\x05\\xab\\xfaEL\\xe0\\xefw\\x91\\xc6\\x9b\\xaa\\xbaGSL\\x90\\xf8\\xfcZ\\x86\\xe3\\xf2\\xea\\x0b\\r\\xdd\\xa0H\\xcf<\\x9d\\x98\\xe4\\r\\x072\\xde\\xeb\\x9e\\xe5_\\x14\\xe9\\xb9q\\xe0\\x98x\\xa6\\xea\\xc1\\xc6'\n",
      "256\n",
      "And miles to walk before I sleep, and miles to walk before I sleep.\n",
      "{'Key Size': 2048, 'Public Exponent': 65537, 'Prime Size': 1024, 'Hash Function': 'sha256', 'RSA Key Generation Time': 0.24123692512512207, 'DES Key Generation Time': None}\n",
      "b'\\x8e\\x10\\xc5r\"O$\\x90\\xf0\\xf7\\x0e#\\xf6\\xeaG\\x13QyS\\xd3\\xf5\\x01\\xef\\xeb\\xd6\\xf1\\xcb\\xbc\\xd9;1G6\\xe2\\x053]\\xba\\xc9\\xe5\\x0e\\xde\\x14z\\xdd\\xc9{\\xd39h\\xd1\\xea\\xed\\xd0\\xf4U\\x1d\\xbf\\xe1\\xfbj\\xf8w\\x7f\\xee\\xf2\\x18\\x93\\xdb\\x19\\x04\\xcd\\xcf\\x81Y\\x11\\x92\\xf6\\x19\\xa0:\\t=6M\\x8d\\xaa\\xf1\\x89\\x074\\x85\\xc1\\xef\\x8e[\\x0f\\x96\\xda\\\\]\\xb0\\xde{P\\xda\\xb4\\x8e{\\xae\\xf4q0\\x8fN\\xdf\\xb3\\xfd\\xb0\\xa8\\xbe2\\xfee\\xc9\\\\\\xce\\xe05\\x8e?\\xb0\\xfe\\xb4\\xe9m\\x92V\\xb1j\\xae </'\n",
      "144\n",
      "And miles to walk before I sleep, and miles to walk before I sleep.\n",
      "(b'\\xfb+\\x99\\x1a\\xe8\\x0eVa<\\xabrI\\xba\\x03\\xd0\\xcc', 2.86102294921875e-06)\n",
      "Time Difference = 0.24123406410217285\n",
      "RSA is a more secure algorithm than AES since the difference in generation time 0.24123406410217285>0 implying that AES is faster and therefore less secure and AES will only accept two key parameters out of RSA (key size and generation time) since RSA generates prime numbers and incurs hash functions but AES does not do either of these.\n",
      "b'P6\\xd8\\xb7?\\xee\\xb0\\n\\rp\\xe4\\xa8\\xb1\\xc9\\x14jpm\\xf7\\r\\xcae\\xbf\\xbd\"i\\xc4\\xc8\\x80\\t\\x80\\x89\\xb8\\xe4n\\xea*\\x07Yk)Z\\x07\\\\Q\\xfd\\xe7\\x1e\\r+\\x9bm`\\x03X%\\xf1k\\x1b=j\\x1cJ$n\\x1f\\xb0\\n\\xce0\\xcc\\xa1'\n",
      "72\n",
      "And miles to walk before I sleep, and miles to walk before I sleep.\n",
      "(b'\\x92Q\\xa1l\\x1b\\xe7\\xcaA', 2.86102294921875e-06)\n",
      "Time Difference = 0.24123406410217285\n",
      "RSA is a more secure algorithm than DES since the difference in generation time 0.24123406410217285>0 implying that DES is faster and therefore less secure and DES will only accept two key parameters out of RSA (key size and generation time) since RSA generates prime numbers and incurs hash functions but DES does not do either of these.\n"
     ]
    }
   ],
   "source": [
    "\"\"\"Using if statement to develop user input prototype for testing the algorithms RSA, AES and DES.\"\"\"\n",
    "if __name__ == \"__main__\":\n",
    "    rsa = RSACrypto(key_size=2048, hash_function='sha256')\n",
    "    user_input = input(\"Please enter a message:\")\n",
    "    encrypted_message = rsa.public_encrypt(user_input)\n",
    "    decrypted_message = rsa.private_decrypt(encrypted_message)\n",
    "    print(encrypted_message)\n",
    "    print(len(encrypted_message))\n",
    "    print(decrypted_message)\n",
    "    print(rsa.get_security_parameters())\n",
    "    key_1 = get_random_bytes(16)\n",
    "    AES_instance = AES.new(key_1, AES.MODE_ECB)\n",
    "    encrypted_AES = AES_instance.encrypt(pad(user_input.encode('utf-16'), AES.block_size))\n",
    "    decrypted_AES = unpad(AES_instance.decrypt(encrypted_AES), AES.block_size)\n",
    "    print(encrypted_AES)\n",
    "    print(len(encrypted_AES))\n",
    "    print(decrypted_AES.decode('utf-16'))\n",
    "    print(rsa.generate_AES_key())\n",
    "    difference_1 = rsa.RSA_generation_time - rsa.AES_generation_time\n",
    "    print(\"Time Difference =\",difference_1)\n",
    "    print(f\"RSA is a more secure algorithm than AES since the difference in generation time {difference_1}>0 implying that AES is faster and therefore less secure and AES will only accept two key parameters out of RSA (key size and generation time) since RSA generates prime numbers and incurs hash functions but AES does not do either of these.\")\n",
    "    key_2 = get_random_bytes(8)\n",
    "    DES_instance = DES.new(key_2, DES.MODE_ECB)\n",
    "    encrypted_DES = DES_instance.encrypt(pad(user_input.encode('utf-8'), DES.block_size))\n",
    "    decrypted_DES = unpad(DES_instance.decrypt(encrypted_DES), DES.block_size)\n",
    "    print(encrypted_DES)\n",
    "    print(len(encrypted_DES))\n",
    "    print(decrypted_DES.decode('utf-8'))\n",
    "    print(rsa.generate_DES_key())\n",
    "    difference_2 = rsa.RSA_generation_time - rsa.DES_generation_time\n",
    "    print(\"Time Difference =\",difference_2)\n",
    "    print(f\"RSA is a more secure algorithm than DES since the difference in generation time {difference_2}>0 implying that DES is faster and therefore less secure and DES will only accept two key parameters out of RSA (key size and generation time) since RSA generates prime numbers and incurs hash functions but DES does not do either of these.\")"
   ]
  },
  {
   "cell_type": "code",
   "execution_count": 9,
   "id": "fee8fd36-62a4-40ae-922c-f1de0340d500",
   "metadata": {},
   "outputs": [
    {
     "name": "stdin",
     "output_type": "stream",
     "text": [
      "Please enter a message: Hi, my name is Sebastian Xavier Maximilien Hennebry and I am a Masters' student in Cybersecurity at the University of Adelaide.\n"
     ]
    },
    {
     "name": "stdout",
     "output_type": "stream",
     "text": [
      "b'\\x9d\\x94)\\xb0\\xdf\\x9cZ\\xfc\\xe5\\t\\xf4\\xb36}T\\xee\\xa9\\x1e=K\\x97\\xe8\\xd1\\xeb\\xc9\\x8d.\\xd0\\xc4\\xdf\\x96\\x03\\xff\\xb1\\xde\\xe1\\xb8[\\nM\\xadEW\\x1c\\xecAeW\\xcf&\\xaa\\x8b\\xda\\xb9\\x08\\xe7V\\xd2\\xa9[\\xe9|\\x15\\x17\\nd\\xec\\xf6\\x9e1\\x95\\x17\\x0fN\\xe6\\x8c\\x80x\\x81k\\x044\\xd7;\\x1f\\xac\\xae \\xc72\\xd4\\x1bQ\\xb8}-\\xa1\\xe1\\x7f\\xcd)\\xd3\\xc2\\xce\\xe5\\xe6g\\x05\\xdbobG\\xcc\\xe3\\xc4\\x00\\x8d\\xba\\x84F\\xd3\\x11\\xb7\\t\\xf5}d]\\x12/\\xcf\\xb33Jxq\\xcb\\xcaA\\x8dA\\xd5\\x84\\xfe\\xc33K\\xd9s\\\\4\\x98\\x07\\x0br\\xeeY\\x88]\\xb5`\\x05\\xc3\\xfc~\\xa4\\x97\\x94\\x9b{\\xd0\\xc7\\x9e{9\\xfd\\x1a\\xc8\\t_\\x92\\x9e&\\xe9-\\x00\\x86\\x8f\\xeb~\\xcb\\xdb\\x8a\\xa8\\x81\\xa2,i\\x91s#0A\\xb0\\x12\\xfcV\\xb6\\xa6\\xc5\\x18\\x17o\\xb6\\x92\\rv\\xf8T\\x16elG\\x9d\\xb9\\x85\\xa9\\xbe\\x84\\x92\\xcc8\\x18\\xb6\\x8f\\xce\\x1c\\xfd\\xaeE\\xfa\\x07\\xeeU\\x1b\\x8fYR\\xbb|\\xa1D\\xc61A\\xde'\n",
      "256\n",
      "Hi, my name is Sebastian Xavier Maximilien Hennebry and I am a Masters' student in Cybersecurity at the University of Adelaide.\n",
      "{'Key Size': 2048, 'Public Exponent': 65537, 'Prime Size': 1024, 'Hash Function': 'sha256', 'RSA Key Generation Time': 0.38667893409729004, 'DES Key Generation Time': None}\n",
      "b'\\xb6i\\x07Z\\x08\\xa3\\xa9\\x90X\\xf7\\x14(\\xb1C\\xcb\\x1b\\xc0\\x01,p\\xe1\\x05\\xba\\xc3\\x0fo|;\\x8a\"\\x13\\xfd\\xd4\\x18\\xe1O\\xa8\\r\\x02\\x08\\x1f.\\xbaWDb\\xdd\\xdd{\\x11\\xa54)\\x87\\x92\\xbe+\\xbdR\\x05B\\x95\\x06\\xe7R\\xcf,2\\xf6\\'\\xb2w\\x13QB,,-\\xe9\\x12\\x1c\\x80\\xfc_\\x16\\xd9\\xe5#\\x14Y\\xae,\\xb4\\xbf\\x8d\\xb14\\x83}\\x9aR}4F\\xfa\\xa1\\x13}\\xdfEO\\xa1\\xd2\\x91\\xd3(@\\x93:\\xd6\\x8ct\\xa3\\x1e\\xca\\x84\\x9d[\\xd7\\x8dA\\x90p\\x90\\x98\\\\\\x0cx\"[\\x01Qs\\x85\\x00\\xa6\\xf9\\xca\\xf69$<\\xe5^\\xe6\\xcd\\xc1\\xd80\\xca\\xcd\\x82\\x82w\\xe9\\xadS\\'\\x9f3\\t!\\xc0By\\xc6\\xcf\\xd4\\xaf\\xb2\\xaa\\xe2{\\xbb\\x0bM\\x11\\x04\\x84u\\xbc\\xc5\\xaa\\x88\\xbf\\xdf\\xf6\\xc9\\x92\\x91\\x86\\xd14`\\x8ab4\\xec\\xff\\x90\\x05M^~\\x9c\\x94\\xd2<\\x88\\xce0\\x80\\x8c\\x8bY\\x95%\\xf6\\xea\\xb9\\xb3\\xe9\\xbf\\x9a\\x90\\xd0a\\xcfd\\xb59\\x04\\xcd\\xb6\\x02\\x08\\x1c\\xbb\\xb2\\x9f>\\xeek9\\xa7\\x0bn\\xb9\\xc0\\x16\\xb5\\xda\\xcaV(A\\x91\\xb4?Kq\\xce'\n",
      "272\n",
      "Hi, my name is Sebastian Xavier Maximilien Hennebry and I am a Masters' student in Cybersecurity at the University of Adelaide.\n",
      "(b'\\xf5f(-\\xce\\x01\\x1az\\xbbM\\xca\\x16\\x9b\\xbf\\xda\\xf4', 3.0994415283203125e-06)\n",
      "Time Difference = 0.3866758346557617\n",
      "RSA is a more secure algorithm than AES since the difference in generation time 0.3866758346557617>0 implying that AES is faster and therefore less secure and AES will only accept two key parameters out of RSA (key size and generation time) since RSA generates prime numbers and incurs hash functions but AES does not do either of these.\n",
      "b'\\xf8I\\x18\\xd9J\"\\xb3\\xc1\\xc4\\xd3\\x9ct\\xa5\\x8bx\\xec\\xf4\\x0b\\xfc\\xba\\xa6\\x9c\\xbe3j\\x1d\\x16\\x0e1\\x86\\xa3=\\x8aEA\\xd1\\xda\\x9d\\xc7\\x8e\\x18\\xef\\xaa\\xc7YWbe\\xda\\xc6\\xa8N\\xdb\\xaeE\\xcc\\x15\\x87\\xa3\\xf2\\xc9\\xbb\\x0f\\xbf\\x08\\xbd\\xe6%]\\x96\\xfd\\x97V_\\xbb\\x05Cn%\\xd3\\xa2\\xdd?\\xfc\\xe4\\x9d\\x9e\\xe1orE:S\\xbe\\xc1\\xa63:\\x84\\xbe&1MG\\xf6\\xba*\\xa6\\xd7\\x91,J\\xe2 ,\\x03\\xbb\\xa8\\x87\\x8c\\xee\\x9e\\r>\\xfb\\xf3\\xc9>'\n",
      "128\n",
      "Hi, my name is Sebastian Xavier Maximilien Hennebry and I am a Masters' student in Cybersecurity at the University of Adelaide.\n",
      "(b'\\xa2\\xe6\\xa4tU/gi', 1.9073486328125e-06)\n",
      "Time Difference = 0.3866770267486572\n",
      "RSA is a more secure algorithm than DES since the difference in generation time 0.3866770267486572>0 implying that DES is faster and therefore less secure and DES will only accept two key parameters out of RSA (key size and generation time) since RSA generates prime numbers and incurs hash functions but DES does not do either of these.\n"
     ]
    }
   ],
   "source": [
    "\"\"\"Using if statement to develop user input prototype for testing the algorithms RSA, AES and DES.\"\"\"\n",
    "if __name__ == \"__main__\":\n",
    "    rsa = RSACrypto(key_size=2048, hash_function='sha256')\n",
    "    user_input = input(\"Please enter a message:\")\n",
    "    encrypted_message = rsa.public_encrypt(user_input)\n",
    "    decrypted_message = rsa.private_decrypt(encrypted_message)\n",
    "    print(encrypted_message)\n",
    "    print(len(encrypted_message))\n",
    "    print(decrypted_message)\n",
    "    print(rsa.get_security_parameters())\n",
    "    key_1 = get_random_bytes(16)\n",
    "    AES_instance = AES.new(key_1, AES.MODE_ECB)\n",
    "    encrypted_AES = AES_instance.encrypt(pad(user_input.encode('utf-16'), AES.block_size))\n",
    "    decrypted_AES = unpad(AES_instance.decrypt(encrypted_AES), AES.block_size)\n",
    "    print(encrypted_AES)\n",
    "    print(len(encrypted_AES))\n",
    "    print(decrypted_AES.decode('utf-16'))\n",
    "    print(rsa.generate_AES_key())\n",
    "    difference_1 = rsa.RSA_generation_time - rsa.AES_generation_time\n",
    "    print(\"Time Difference =\",difference_1)\n",
    "    print(f\"RSA is a more secure algorithm than AES since the difference in generation time {difference_1}>0 implying that AES is faster and therefore less secure and AES will only accept two key parameters out of RSA (key size and generation time) since RSA generates prime numbers and incurs hash functions but AES does not do either of these.\")\n",
    "    key_2 = get_random_bytes(8)\n",
    "    DES_instance = DES.new(key_2, DES.MODE_ECB)\n",
    "    encrypted_DES = DES_instance.encrypt(pad(user_input.encode('utf-8'), DES.block_size))\n",
    "    decrypted_DES = unpad(DES_instance.decrypt(encrypted_DES), DES.block_size)\n",
    "    print(encrypted_DES)\n",
    "    print(len(encrypted_DES))\n",
    "    print(decrypted_DES.decode('utf-8'))\n",
    "    print(rsa.generate_DES_key())\n",
    "    difference_2 = rsa.RSA_generation_time - rsa.DES_generation_time\n",
    "    print(\"Time Difference =\",difference_2)\n",
    "    print(f\"RSA is a more secure algorithm than DES since the difference in generation time {difference_2}>0 implying that DES is faster and therefore less secure and DES will only accept two key parameters out of RSA (key size and generation time) since RSA generates prime numbers and incurs hash functions but DES does not do either of these.\")"
   ]
  }
 ],
 "metadata": {
  "kernelspec": {
   "display_name": "Python [conda env:3]",
   "language": "python",
   "name": "conda-env-3-py"
  },
  "language_info": {
   "codemirror_mode": {
    "name": "ipython",
    "version": 3
   },
   "file_extension": ".py",
   "mimetype": "text/x-python",
   "name": "python",
   "nbconvert_exporter": "python",
   "pygments_lexer": "ipython3",
   "version": "3.10.6"
  }
 },
 "nbformat": 4,
 "nbformat_minor": 5
}
