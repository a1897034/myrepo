{
 "cells": [
  {
   "cell_type": "code",
   "execution_count": 1,
   "id": "b8e4c916",
   "metadata": {
    "jupyter": {
     "is_executing": true
    }
   },
   "outputs": [
    {
     "name": "stdout",
     "output_type": "stream",
     "text": [
      "Defaulting to user installation because normal site-packages is not writeable\n",
      "Requirement already satisfied: pycryptodome in ./Library/Python/3.10/lib/python/site-packages (3.22.0)\n",
      "Requirement already satisfied: cryptography in ./Library/Python/3.10/lib/python/site-packages (44.0.2)\n",
      "Requirement already satisfied: cffi>=1.12 in ./Library/Python/3.10/lib/python/site-packages (from cryptography) (1.16.0)\n",
      "Requirement already satisfied: pycparser in ./Library/Python/3.10/lib/python/site-packages (from cffi>=1.12->cryptography) (2.21)\n"
     ]
    }
   ],
   "source": [
    "\"\"\"Installing all the relevant packages for testing.\"\"\"\n",
    "!pip install pycryptodome cryptography"
   ]
  },
  {
   "cell_type": "code",
   "execution_count": 2,
   "id": "bc6fc184-c7f9-49f8-8b18-2c8a06dc1326",
   "metadata": {
    "jupyter": {
     "is_executing": true
    }
   },
   "outputs": [],
   "source": [
    "\"\"\"Importing all necessary modules from pycryptodome and cryptography packages for the algorithm.\"\"\"\n",
    "from cryptography.hazmat.primitives import asymmetric, serialization, hashes\n",
    "from cryptography.hazmat.primitives.asymmetric import padding\n",
    "from Crypto.PublicKey import RSA\n",
    "from Crypto.Cipher import AES, DES, PKCS1_OAEP\n",
    "from Crypto.Random import get_random_bytes\n",
    "from Crypto.Util.number import getPrime\n",
    "from Crypto.Util.Padding import pad, unpad\n",
    "import socket\n",
    "import base64\n",
    "import time\n",
    "import hashlib\n",
    "\n",
    "\"\"\"Creating a suitable class in order to encrypt and decrypt messages using the algorithms.\"\"\"\n",
    "class RSACrypto:\n",
    "    def __init__(self, key_size=2048, public_exponent=65537, prime_size=1024, hash_function='SHA-256'):\n",
    "        \"\"\"Initializes all the evaluation parameters for the algorithm.\"\"\"\n",
    "        self.key_size = key_size\n",
    "        self.key_size = key_size\n",
    "        self.public_exponent = public_exponent\n",
    "        self.hash_function = hash_function\n",
    "        self.prime_size = prime_size\n",
    "        self.RSA_generation_time = None\n",
    "        self.DES_generation_time = None\n",
    "        self.generate_keys()\n",
    "        \n",
    "    def generate_keys(self):\n",
    "        \"\"\"Generates RSA key pair with defined parameters.\"\"\"\n",
    "        start_time = time.time()\n",
    "        key = RSA.generate(self.key_size, e=self.public_exponent)\n",
    "        self.private_key = key.export_key()\n",
    "        self.public_key = key.publickey().export_key()\n",
    "        self.RSA_generation_time = time.time() - start_time\n",
    "        \n",
    "    def generate_AES_key(self):\n",
    "        \"\"\"Generates a single key for AES (Advanced Encryption Standard).\"\"\"\n",
    "        start_time = time.time()\n",
    "        key = get_random_bytes(16)\n",
    "        end_time = time.time()\n",
    "        self.AES_generation_time = end_time - start_time\n",
    "        return key, self.AES_generation_time\n",
    "\n",
    "    def generate_DES_key(self):\n",
    "        \"\"\"Generates a single key for DES (Data Encryption Standard).\"\"\"\n",
    "        start_time = time.time()\n",
    "        key = get_random_bytes(8)\n",
    "        end_time = time.time()\n",
    "        self.DES_generation_time = end_time - start_time\n",
    "        return key, self.DES_generation_time\n",
    "    \n",
    "    def public_encrypt(self, message):\n",
    "        \"\"\"Encrypts a message using the public key.\"\"\"\n",
    "        if self.public_key is None:\n",
    "            raise ValueError(\"Public key not generated or loaded.\")\n",
    "        key = RSA.import_key(self.public_key)\n",
    "        cipher = PKCS1_OAEP.new(key)\n",
    "        encrypted_message = cipher.encrypt(message.encode())\n",
    "        return encrypted_message\n",
    "    \n",
    "    def private_decrypt(self, encoded_message):\n",
    "        \"\"\"Decrypts a message using the private key.\"\"\"\n",
    "        if self.private_key is None:\n",
    "            raise ValueError(\"Private key not available.\")\n",
    "        \n",
    "        key = RSA.import_key(self.private_key)\n",
    "        cipher = PKCS1_OAEP.new(key)\n",
    "        decrypted_message = cipher.decrypt(encoded_message)\n",
    "        return decrypted_message.decode()\n",
    "\n",
    "    def get_security_parameters(self):\n",
    "        \"\"\"Returns security-related parameters.\"\"\"\n",
    "        return {\n",
    "            'Key Size': self.key_size,\n",
    "            'Public Exponent': self.public_exponent,\n",
    "            'Prime Size': self.prime_size,\n",
    "            'Hash Function': self.hash_function,\n",
    "            'RSA Key Generation Time': self.RSA_generation_time,\n",
    "            'DES Key Generation Time': self.DES_generation_time\n",
    "        }"
   ]
  },
  {
   "cell_type": "code",
   "execution_count": 3,
   "id": "a81bc4b3-dd27-4a04-b0b7-4da311557655",
   "metadata": {
    "jupyter": {
     "is_executing": true
    }
   },
   "outputs": [
    {
     "name": "stdout",
     "output_type": "stream",
     "text": [
      "{'sha512_256', 'mdc2', 'shake_256', 'sha1', 'sha512', 'shake_128', 'sha3_256', 'md5-sha1', 'blake2s', 'blake2b', 'ripemd160', 'sm3', 'whirlpool', 'md4', 'sha512_224', 'sha256', 'sha384', 'sha3_512', 'sha3_224', 'sha3_384', 'sha224', 'md5'}\n"
     ]
    }
   ],
   "source": [
    "\"\"\"Printing names of available hash functions.\"\"\"\n",
    "print(hashlib.algorithms_available)"
   ]
  },
  {
   "cell_type": "code",
   "execution_count": 4,
   "id": "33d30079-5f30-4845-93cd-2095b72cad12",
   "metadata": {
    "jupyter": {
     "is_executing": true
    }
   },
   "outputs": [
    {
     "name": "stdin",
     "output_type": "stream",
     "text": [
      "Please enter a message: Hello, World!\n"
     ]
    },
    {
     "name": "stdout",
     "output_type": "stream",
     "text": [
      "b\"Ti\\xbb.\\x85\\xaa\\xee\\x86\\x10\\xe8-v,F\\x93w\\x81mp.}F3\\x86\\x99\\xe2H\\xbe\\xdfW5\\xf7\\x83\\xed|0\\xaa^\\xdc)c\\xe5W\\x8f\\x9cR.w\\xc3\\x87Y\\xcdqt\\xe1\\xd00\\x10i\\xc5\\x83\\xd1\\xbe\\xf7\\xa3\\xc7\\x11\\x9d\\xfe\\x94+\\xbd\\xa3\\xf0\\xabh\\x93\\xf5,\\x02\\x86\\xf7\\xc4\\xf3:\\xd6J?\\x1d\\x8c\\xe9\\t\\xf8#E\\xfeL\\xea\\xb0R\\xa6v\\x83\\n\\x93\\xb5wS\\xd1\\x93]\\\\\\x18\\xb55/k\\x0eT\\xb4\\xbc>\\x15\\x87hiH\\xb2r\\xeaz\\xf9\\xde\\x0f\\xfaU\\x88!\\t\\xac,:\\xa5\\x90NVG\\xe8\\t\\xf1.\\xd0\\xe4\\xe6\\x12\\xf6\\xf1\\xb4\\xcc]\\x07\\xe1WI\\x05\\xbf\\x80i+\\xef\\x91\\xbb\\x97\\xc3OF\\xd7^0\\xdf\\x12\\xf1\\xd1*\\x03tb,\\x19\\xc5\\xa9u\\xaeaT{\\tm\\x13'\\x95\\xc3\\xf1l\\x0c\\xb5\\x85F5\\x0bkD\\x9c\\xf5\\xbf\\xc7\\xda\\x8d\\xa5\\x8d\\xf1}\\xb6ipk\\xf0\\xaea`\\xf1\\x11\\xc6m\\x87\\xe2\\xe1\\x83\\xfe\\xfd\\x10\\xe5\\xf8O\\xa8\\xe8\\xd1h\\xea\\xa22g\\xc5\\xfd\\x91@\"\n",
      "Hello, World!\n",
      "{'Key Size': 2048, 'Public Exponent': 65537, 'Prime Size': 1024, 'Hash Function': 'sha256', 'RSA Key Generation Time': 0.8213131427764893, 'DES Key Generation Time': None}\n",
      "b'#\\x9e\\xfc\\x01\\x82d\\xbc\\xf3\\x81\\xf4X\\xeb\\xf3g\\xeeH=\\x9e\\xd9|\\x96cL8\\x99\\xf9\\x13\\x1bA\\x12\\x06\\xa2'\n",
      "Hello, World!\n",
      "(b'd\\xbas\\xcb\\xb1\\xfa\\xc6UM|8$\\x9b\\x97\\xdb\\xdf', 5.0067901611328125e-06)\n",
      "Time Difference = 0.8213081359863281\n",
      "RSA is a more secure algorithm than AES since the difference in generation time 0.8213081359863281>0 implying that AES is faster and therefore less secure and AES will only accept two key parameters out of RSA (key size and generation time) since RSA generates prime numbers and incurs hash functions but AES does not do either of these.\n",
      "b'\\xd1\\xb6\\x8d\\x90\\xedA\\xd2)t|\\\\fu\\xeb\\xcaZ'\n",
      "Hello, World!\n",
      "(b'\\x9a\\xa1r5p\\xf7\"i', 3.0994415283203125e-06)\n",
      "Time Difference = 0.8213100433349609\n",
      "RSA is a more secure algorithm than DES since the difference in generation time 0.8213100433349609>0 implying that DES is faster and therefore less secure and DES will only accept two key parameters out of RSA (key size and generation time) since RSA generates prime numbers and incurs hash functions but DES does not do either of these.\n"
     ]
    }
   ],
   "source": [
    "\"\"\"Using if statement to develop user input prototype for testing the algorithms RSA, AES and DES.\"\"\"\n",
    "if __name__ == \"__main__\":\n",
    "    rsa = RSACrypto(key_size=2048, hash_function='sha256')\n",
    "    user_input = input(\"Please enter a message:\")\n",
    "    encrypted_message = rsa.public_encrypt(user_input)\n",
    "    decrypted_message = rsa.private_decrypt(encrypted_message)\n",
    "    print(encrypted_message)\n",
    "    print(decrypted_message)\n",
    "    print(rsa.get_security_parameters())\n",
    "    key_1 = get_random_bytes(16)\n",
    "    AES_instance = AES.new(key_1, AES.MODE_ECB)\n",
    "    encrypted_AES = AES_instance.encrypt(pad(user_input.encode('utf-16'), AES.block_size))\n",
    "    decrypted_AES = unpad(AES_instance.decrypt(encrypted_AES), AES.block_size)\n",
    "    print(encrypted_AES)\n",
    "    print(decrypted_AES.decode('utf-16'))\n",
    "    print(rsa.generate_AES_key())\n",
    "    difference_1 = rsa.RSA_generation_time - rsa.AES_generation_time\n",
    "    print(\"Time Difference =\",difference_1)\n",
    "    print(f\"RSA is a more secure algorithm than AES since the difference in generation time {difference_1}>0 implying that AES is faster and therefore less secure and AES will only accept two key parameters out of RSA (key size and generation time) since RSA generates prime numbers and incurs hash functions but AES does not do either of these.\")\n",
    "    key_2 = get_random_bytes(8)\n",
    "    DES_instance = DES.new(key_2, DES.MODE_ECB)\n",
    "    encrypted_DES = DES_instance.encrypt(pad(user_input.encode('utf-8'), DES.block_size))\n",
    "    decrypted_DES = unpad(DES_instance.decrypt(encrypted_DES), DES.block_size)\n",
    "    print(encrypted_DES)\n",
    "    print(decrypted_DES.decode('utf-8'))\n",
    "    print(rsa.generate_DES_key())\n",
    "    difference_2 = rsa.RSA_generation_time - rsa.DES_generation_time\n",
    "    print(\"Time Difference =\",difference_2)\n",
    "    print(f\"RSA is a more secure algorithm than DES since the difference in generation time {difference_2}>0 implying that DES is faster and therefore less secure and DES will only accept two key parameters out of RSA (key size and generation time) since RSA generates prime numbers and incurs hash functions but DES does not do either of these.\")"
   ]
  },
  {
   "cell_type": "code",
   "execution_count": 11,
   "id": "65b2bcbdece58f78",
   "metadata": {},
   "outputs": [
    {
     "name": "stdin",
     "output_type": "stream",
     "text": [
      "Please enter a message: Hi, my name is Max Hennebry.\n"
     ]
    },
    {
     "name": "stdout",
     "output_type": "stream",
     "text": [
      "b'9b\\xab\\t\\x81D\\xbf\\xef1\\xd0]F\\xad\\x06\\xe7\\xcc\\x1c\\xb6\\xa3j\\x13D;PP\\xac\\xcb\\x89\\xbej\\n\\xe4\\xfa\\x9cO\\x15\\x04\\xb7\\x8f\\x8f\\xede\\xc8\\xb6\\xd9\\xfc\\x9a^\\x9e2\\x98rA\\xf0\\xb2\\x1c\\x16[\\xd4gj\\x19z\\x00\\xf6\\xbb\\xe1\\\\\\x85+\\xe07z\\xca\\xb1r\\xaa\\xd9CnP\\x0e\\xe6\\x9e\\xb2x\\x026\\x13\\xc2\\x1b\\xb1\\xdf>\\x7f\\xf9S\\x06\\x1a\\xe2d\\x1b\\xf3nt\\xc3e\\xf6R\\xaa\\xfd%\\xff\\xe81\\x83OrF|\\xe6@\\xd4\\xc8\\xf0\\xf1!*\\xf6e\\xd5\\x07)q\\x9b\\x893:\\x90\"J)\\x13\\xbb))\\x1d`\\xac!\\xd1\\tL..w\\x14\\x1b\\x03n7\\xd3\\t\\\\\\x93F\\xc0\\x0f\\x88\\xe5\\xb3\\x1e\\xf0:.\\xc9Q<\\xc9\\x95\\xa5\\x9f\\x84\\xb8\\x08UA\\xda4\\xae;4M\\x97S\\xb5\\x17,|\\xcfLb\\xd7\\x9f\\x01\\xdc\"\\xc3*\"\\x07b\\x0c\\xb6\\x1eJPB\\xd5\\xc2P8c|#u5\\xfa\\'Od0\\xb3\\xf4\\xde@\\xfc\\xe6c`\\x16s\\xf7%\\xf4}\\x14\\xa2\\x90\\x96S\\xd7\\xc5\\xe6\\x83\\xc3'\n",
      "Hi, my name is Max Hennebry.\n",
      "{'Key Size': 2048, 'Public Exponent': 65537, 'Prime Size': 1024, 'Hash Function': 'sha256', 'RSA Key Generation Time': 3.6124701499938965, 'DES Key Generation Time': None}\n",
      "b'2\\xa9G\\x14)\\x97=\\x82?\\x0b\\x13C\\x9cY-\\xd1+\\xbb\\xf4\\xe1\\xad\\xb3\\xc0\\x9e\\xcf\\x1f+\\xc1\\'\\x91\\xa5\\t;\\xe8[z\\xec\\xb9\\xc39\"}m\\x17H\\xbe\\xf6\\x16C\\xaaL\\xf0\\xc4\\x9cpcD\\x19s\\xf5\\xa0Z\\x8f\\xb4'\n",
      "Hi, my name is Max Hennebry.\n",
      "(b'U\\x08%&\\xb3\\x1c\\n:\\x1fRPG\\x92\\\\\\x9a\\xee', 5.0067901611328125e-06)\n",
      "Time Difference = 3.6124651432037354\n",
      "RSA is a more secure algorithm than AES since the difference in generation time 3.6124651432037354>0 implying that AES is faster and therefore less secure and AES will only accept two key parameters out of RSA (key size and generation time) since RSA generates prime numbers and incurs hash functions but AES does not do either of these.\n",
      "b\"\\x07\\xd4\\x84^Y\\xb0'\\xa0\\x14A6\\xea\\xdcz\\xfc\\\\:\\xd9\\x93'\\x85\\xe3\\xa0Ry(\\xc6\\xd5'\\xb0\\x15\\xe6\"\n",
      "Hi, my name is Max Hennebry.\n",
      "(b'\\x92\\x1e\\x96\\xeaE\\xd2\\xb8R', 2.86102294921875e-06)\n",
      "Time Difference = 3.6124672889709473\n",
      "RSA is a more secure algorithm than DES since the difference in generation time 3.6124672889709473>0 implying that DES is faster and therefore less secure and DES will only accept two key parameters out of RSA (key size and generation time) since RSA generates prime numbers and incurs hash functions but DES does not do either of these.\n"
     ]
    }
   ],
   "source": [
    "\"\"\"Using if statement to develop user input prototype for testing RSA and DES.\"\"\"\n",
    "if __name__ == \"__main__\":\n",
    "    rsa = RSACrypto(key_size=2048, hash_function='sha256')\n",
    "    user_input = input(\"Please enter a message:\")\n",
    "    encrypted_message = rsa.public_encrypt(user_input)\n",
    "    decrypted_message = rsa.private_decrypt(encrypted_message)\n",
    "    print(encrypted_message)\n",
    "    print(decrypted_message)\n",
    "    print(rsa.get_security_parameters())\n",
    "    key_1 = get_random_bytes(16)\n",
    "    AES_instance = AES.new(key_1, AES.MODE_ECB)\n",
    "    encrypted_AES = AES_instance.encrypt(pad(user_input.encode('utf-16'), AES.block_size))\n",
    "    decrypted_AES = unpad(AES_instance.decrypt(encrypted_AES), AES.block_size)\n",
    "    print(encrypted_AES)\n",
    "    print(decrypted_AES.decode('utf-16'))\n",
    "    print(rsa.generate_AES_key())\n",
    "    difference_1 = rsa.RSA_generation_time - rsa.AES_generation_time\n",
    "    print(\"Time Difference =\",difference_1)\n",
    "    print(f\"RSA is a more secure algorithm than AES since the difference in generation time {difference_1}>0 implying that AES is faster and therefore less secure and AES will only accept two key parameters out of RSA (key size and generation time) since RSA generates prime numbers and incurs hash functions but AES does not do either of these.\")\n",
    "    key_2 = get_random_bytes(8)\n",
    "    DES_instance = DES.new(key_2, DES.MODE_ECB)\n",
    "    encrypted_DES = DES_instance.encrypt(pad(user_input.encode('utf-8'), DES.block_size))\n",
    "    decrypted_DES = unpad(DES_instance.decrypt(encrypted_DES), DES.block_size)\n",
    "    print(encrypted_DES)\n",
    "    print(decrypted_DES.decode('utf-8'))\n",
    "    print(rsa.generate_DES_key())\n",
    "    difference_2 = rsa.RSA_generation_time - rsa.DES_generation_time\n",
    "    print(\"Time Difference =\",difference_2)\n",
    "    print(f\"RSA is a more secure algorithm than DES since the difference in generation time {difference_2}>0 implying that DES is faster and therefore less secure and DES will only accept two key parameters out of RSA (key size and generation time) since RSA generates prime numbers and incurs hash functions but DES does not do either of these.\")"
   ]
  },
  {
   "cell_type": "code",
   "execution_count": 13,
   "id": "83c6215f-e8e1-42c7-ab3c-9c7d896ce2b7",
   "metadata": {},
   "outputs": [
    {
     "name": "stdin",
     "output_type": "stream",
     "text": [
      "Please enter a message: How I wish I could calculate pi.\n"
     ]
    },
    {
     "name": "stdout",
     "output_type": "stream",
     "text": [
      "b'NB\\xa4i\\xc76\\'\\xc9\\xe3$~\\x9d\\xee\\x9b\\x85F\\xe4\\xfe\\x1c\\xd3\\xcf\\xcb_\\x14\\x08\\xd0\\xddN\\x9fG\\x9aB%J<\\xda\\x1df\\x93]W\\x1e\\xa8W\\xa5\\x15Xdt4#\\x8c\\x81\\\\!0\\xfd\\xff^\\xec\\xa7\\xca\\xe7)\\x8c|\\xb5\\xad\\xa9\\xb9\\xac1\\x99\\x03\\x90_\\xe8\\x1a\\xb9\\x85Z\\xed\\xfbFn_\\xf0R1\\xef(}w[\\xe5\\x9fTF\\x90\\xd9\\xeaRH\\xb5\\xa8\\xfbKQ\\x16\\x9c\\\\\\x1a\\x00\\xb0!\\xf5Q\\xe7\\xeb\\x12\\xee7\\xd9\\xa5\\xab\\xa7\\xa8$\\xc9\\x15\\x94T\\xc7de@\\xe5^\\xe6\\xca\\x85\\x1b/\\xe3\\x0eXlU\\xc7\\xe8\\xc4\\xcf\\x05\\xaeA\\x1a\\x05e\\xaa\\xb5\\xdfF&\\x01EkH\\x86\\xdd\\x7f\\x8f?\\xdb\\x0c\\xa9\\xaf\\r\\xdej\\xa78\\x16\\xb3\\x99\\x0cZ\\xe6\"\\x8a\\xfe*\\x1c\\xa1\\xa0\\x8e\\xb7sj\\xc2\\xc1.\\xbe\\xe3\\x98<o\\xf7GE\\x14\\xd3\\xe3\\xcb\\x82\\xef#QA\\x88&\\xdc\\xb8x\\xaf\\x94\\x9b\\xe5;\\xdc\\x9ft\\x86\\xae8\\xd7\\xd6\\xeeTR\\xfe\\xc4LD\\x19\\x87bn\\xa5\\x06T\\xb2\\xed\\x18\\x0f\\xb5\\x83'\n",
      "How I wish I could calculate pi.\n",
      "{'Key Size': 2048, 'Public Exponent': 65537, 'Prime Size': 1024, 'Hash Function': 'sha256', 'RSA Key Generation Time': 0.7214579582214355, 'DES Key Generation Time': None}\n",
      "b'z\\xa5b\\x88\\xf4\\xe2.\\xa3\\x0b\\x15\\x1e\\x91\\xb4\\xc6s\\xcb\\xa9\\xa1\\x8c\\x89\\x03\\x15\\x9c\\xce\\xae\\x17T\\x1c\\xd0/\\xaa\\xb4#\\x94\\x81\\xaax)Y{K\\x80\\xc9\\x01>\\x01\\xf8\\x1c`\\xac\\xf9\\x00$MW\\xb3\\x91\\xdd\\xae>\\xfd\\x855\\x00\\x87;#\\xdc8\\xa0\\x89\\x10\\x81\\x8c\\x95\\xd9\\xb16s\\xad'\n",
      "How I wish I could calculate pi.\n",
      "(b'k\\xabU\\xc1\\x14U\\xe1\\x97\\x05\\xf3\\x05\\xa6\\xaa\\xa3\\xab\\x84', 4.0531158447265625e-06)\n",
      "Time Difference = 0.7214539051055908\n",
      "RSA is a more secure algorithm than AES since the difference in generation time 0.7214539051055908>0 implying that AES is faster and therefore less secure and AES will only accept two key parameters out of RSA (key size and generation time) since RSA generates prime numbers and incurs hash functions but AES does not do either of these.\n",
      "b'B\\xd2T\\x8e\\t\\x01b0}!\\xa2D\\xf37{\\x03\\xfd\\xee\\xe8\\xcd+?\\xa3.\\x9b\\xe5c\\xc8A\\xd3\\xaa\\xab\\xd5$\\xee\\xeb\\xbb3\\x01\\x89'\n",
      "How I wish I could calculate pi.\n",
      "(b'i\\xe2w\\xba-\\x00t\\x8e', 3.0994415283203125e-06)\n",
      "Time Difference = 0.7214548587799072\n",
      "RSA is a more secure algorithm than DES since the difference in generation time 0.7214548587799072>0 implying that DES is faster and therefore less secure and DES will only accept two key parameters out of RSA (key size and generation time) since RSA generates prime numbers and incurs hash functions but DES does not do either of these.\n"
     ]
    }
   ],
   "source": [
    "\"\"\"Using if statement to develop user input prototype for testing RSA and DES.\"\"\"\n",
    "if __name__ == \"__main__\":\n",
    "    rsa = RSACrypto(key_size=2048, hash_function='sha256')\n",
    "    user_input = input(\"Please enter a message:\")\n",
    "    encrypted_message = rsa.public_encrypt(user_input)\n",
    "    decrypted_message = rsa.private_decrypt(encrypted_message)\n",
    "    print(encrypted_message)\n",
    "    print(decrypted_message)\n",
    "    print(rsa.get_security_parameters())\n",
    "    key_1 = get_random_bytes(16)\n",
    "    AES_instance = AES.new(key_1, AES.MODE_ECB)\n",
    "    encrypted_AES = AES_instance.encrypt(pad(user_input.encode('utf-16'), AES.block_size))\n",
    "    decrypted_AES = unpad(AES_instance.decrypt(encrypted_AES), AES.block_size)\n",
    "    print(encrypted_AES)\n",
    "    print(decrypted_AES.decode('utf-16'))\n",
    "    print(rsa.generate_AES_key())\n",
    "    difference_1 = rsa.RSA_generation_time - rsa.AES_generation_time\n",
    "    print(\"Time Difference =\",difference_1)\n",
    "    print(f\"RSA is a more secure algorithm than AES since the difference in generation time {difference_1}>0 implying that AES is faster and therefore less secure and AES will only accept two key parameters out of RSA (key size and generation time) since RSA generates prime numbers and incurs hash functions but AES does not do either of these.\")\n",
    "    key_2 = get_random_bytes(8)\n",
    "    DES_instance = DES.new(key_2, DES.MODE_ECB)\n",
    "    encrypted_DES = DES_instance.encrypt(pad(user_input.encode('utf-8'), DES.block_size))\n",
    "    decrypted_DES = unpad(DES_instance.decrypt(encrypted_DES), DES.block_size)\n",
    "    print(encrypted_DES)\n",
    "    print(decrypted_DES.decode('utf-8'))\n",
    "    print(rsa.generate_DES_key())\n",
    "    difference_2 = rsa.RSA_generation_time - rsa.DES_generation_time\n",
    "    print(\"Time Difference =\",difference_2)\n",
    "    print(f\"RSA is a more secure algorithm than DES since the difference in generation time {difference_2}>0 implying that DES is faster and therefore less secure and DES will only accept two key parameters out of RSA (key size and generation time) since RSA generates prime numbers and incurs hash functions but DES does not do either of these.\")"
   ]
  },
  {
   "cell_type": "code",
   "execution_count": 15,
   "id": "54396b86-30e6-4239-b2b0-0a54403a86b1",
   "metadata": {},
   "outputs": [
    {
     "name": "stdin",
     "output_type": "stream",
     "text": [
      "Please enter a message: The quick brown fox jumps over the lazy dog.\n"
     ]
    },
    {
     "name": "stdout",
     "output_type": "stream",
     "text": [
      "b\"x!f{\\x93C\\x9f\\xf9\\x11\\x94\\xf9\\xbe\\xa9EV\\xa0\\xf6N\\xaa\\x94\\x92\\x00\\xa7'\\xcd\\xd1\\xcd\\xea_F\\xd7\\xcdg\\xfek9\\x86\\x8a[[\\xfe\\xe7Y\\xa0\\xd0s\\xbd&8\\x15\\xe8\\xdfr#[O\\xd2\\xd7\\xdaBim\\x80V\\x8f\\x01\\xec\\x95v\\xe2X\\x0b\\xc4KU\\r\\x1f\\xed\\xc4t\\xb6\\xc4*{\\xac\\xf9\\x96C\\xaco5O\\xbaF\\x00\\xcd\\xd9\\xf6\\xb6\\xdb\\xf3\\xb7\\xbc\\x8e\\xdb\\x05\\x19\\x18`\\xad\\xee+]\\x9c\\x9d\\xc1\\x0f\\t\\x9a\\x8dE\\x15\\xb1\\xc1\\xca\\xec\\xd8\\xa9\\x80\\xa4u\\x98n\\xc0\\x95\\xe1\\xe54C\\xb9n\\xa7Hk\\xe4\\x1a\\x86\\xf2e5r\\xbe\\r#\\xcad\\x19\\xa0\\xea\\x1f~\\x81\\xeeu-\\xfc\\xdd\\x17C2\\x92z\\x16\\th\\xe1\\xe9B\\xa5w\\x01\\x1agV\\x0e\\x16\\xc9\\xd5\\xefs\\x03>\\x07\\x86\\xa1TS\\xa7e\\xa1aUT\\x88 \\x05(\\xbf\\xad\\xc7\\xdc\\x14\\xc4\\x8a\\x92\\x95\\x11\\xf5(G\\x10ED\\x10G:\\x12Q]7k,\\xaf\\x90\\xd4\\xb7\\xeaf\\x8b)@z\\xfbg\\xe6{p\\xc7c\\\\x\\n\\xd9e\\xb5\\x95\"\n",
      "The quick brown fox jumps over the lazy dog.\n",
      "{'Key Size': 2048, 'Public Exponent': 65537, 'Prime Size': 1024, 'Hash Function': 'sha256', 'RSA Key Generation Time': 3.232954263687134, 'DES Key Generation Time': None}\n",
      "b'\\xc3\\r\\xf5l(\\x8b_\\x9e\\xe7Q\\x82\\xdf\\xa6\\x93\\xeb\\x82i4>\\x14Z\\x12\\x0e!\\xaf2\\x05\\xcbn\\x19&\\\\\\x0eI}=\\xba#\\xaebQJ\\xc6\\xd7$\\x82\\x95\\xe1\\xd5K\\xce\\x8a\\x00\\xa4\\x9b\\x199\\xf3M\\x1b\\x00Q\\xa0\\x86\\x9cK\\x981\\x0c\\xf0\\xfb\\xeb\\x1c\\xb9V\\xd7d\\x95\\xe4X\\x9f\\xb8Xe\\xf2\\x89[e\\xb3\\xc7\\x7f0h0?\\xc5'\n",
      "The quick brown fox jumps over the lazy dog.\n",
      "(b'^\\xbc\\xd3\\xba\\xda\\xad\\x9eT\\xc2\\x9am\\x94\\xd7\\t>\\xdc', 5.0067901611328125e-06)\n",
      "Time Difference = 3.2329492568969727\n",
      "RSA is a more secure algorithm than AES since the difference in generation time 3.2329492568969727>0 implying that AES is faster and therefore less secure and AES will only accept two key parameters out of RSA (key size and generation time) since RSA generates prime numbers and incurs hash functions but AES does not do either of these.\n",
      "b'\\x87\\xe1[\\xc4\\xb8\\x1be\\xc4\\x11f*\\x92Xa\\x9eF\\xf9\\xff\\x98\\x0f?q:\\xbb\\xa1\\xd1\\xc8\\xfad\\xb2\\x05\\xf2/\\x0e\\x07-\\xe9\\xf4\\x1e6\\xcfD\\x03\\ryi\\x85\\x81'\n",
      "The quick brown fox jumps over the lazy dog.\n",
      "(b'\\xcb\\xf4-\\x8dQ\\x83@I', 2.86102294921875e-06)\n",
      "Time Difference = 3.2329514026641846\n",
      "RSA is a more secure algorithm than DES since the difference in generation time 3.2329514026641846>0 implying that DES is faster and therefore less secure and DES will only accept two key parameters out of RSA (key size and generation time) since RSA generates prime numbers and incurs hash functions but DES does not do either of these.\n"
     ]
    }
   ],
   "source": [
    "\"\"\"Using if statement to develop user input prototype for testing RSA and DES.\"\"\"\n",
    "if __name__ == \"__main__\":\n",
    "    rsa = RSACrypto(key_size=2048, hash_function='sha256')\n",
    "    user_input = input(\"Please enter a message:\")\n",
    "    encrypted_message = rsa.public_encrypt(user_input)\n",
    "    decrypted_message = rsa.private_decrypt(encrypted_message)\n",
    "    print(encrypted_message)\n",
    "    print(decrypted_message)\n",
    "    print(rsa.get_security_parameters())\n",
    "    key_1 = get_random_bytes(16)\n",
    "    AES_instance = AES.new(key_1, AES.MODE_ECB)\n",
    "    encrypted_AES = AES_instance.encrypt(pad(user_input.encode('utf-16'), AES.block_size))\n",
    "    decrypted_AES = unpad(AES_instance.decrypt(encrypted_AES), AES.block_size)\n",
    "    print(encrypted_AES)\n",
    "    print(decrypted_AES.decode('utf-16'))\n",
    "    print(rsa.generate_AES_key())\n",
    "    difference_1 = rsa.RSA_generation_time - rsa.AES_generation_time\n",
    "    print(\"Time Difference =\",difference_1)\n",
    "    print(f\"RSA is a more secure algorithm than AES since the difference in generation time {difference_1}>0 implying that AES is faster and therefore less secure and AES will only accept two key parameters out of RSA (key size and generation time) since RSA generates prime numbers and incurs hash functions but AES does not do either of these.\")\n",
    "    key_2 = get_random_bytes(8)\n",
    "    DES_instance = DES.new(key_2, DES.MODE_ECB)\n",
    "    encrypted_DES = DES_instance.encrypt(pad(user_input.encode('utf-8'), DES.block_size))\n",
    "    decrypted_DES = unpad(DES_instance.decrypt(encrypted_DES), DES.block_size)\n",
    "    print(encrypted_DES)\n",
    "    print(decrypted_DES.decode('utf-8'))\n",
    "    print(rsa.generate_DES_key())\n",
    "    difference_2 = rsa.RSA_generation_time - rsa.DES_generation_time\n",
    "    print(\"Time Difference =\",difference_2)\n",
    "    print(f\"RSA is a more secure algorithm than DES since the difference in generation time {difference_2}>0 implying that DES is faster and therefore less secure and DES will only accept two key parameters out of RSA (key size and generation time) since RSA generates prime numbers and incurs hash functions but DES does not do either of these.\")"
   ]
  },
  {
   "cell_type": "code",
   "execution_count": 17,
   "id": "ca69b840-3630-4f53-9940-c109bc37870d",
   "metadata": {},
   "outputs": [
    {
     "name": "stdin",
     "output_type": "stream",
     "text": [
      "Please enter a message: Hi, my name is Sebastian Xavier Maximilien Hennebry and I am a Masters' student in Cybersecurity at the University of Adelaide.\n"
     ]
    },
    {
     "name": "stdout",
     "output_type": "stream",
     "text": [
      "b'2\\x8aU\\x94\\x0b(\\n5J\\x99`\\x1e\\x03r\\x1c\\xa87\\x11\\x8c]\\x01\\x1f\\xa4\\\\\\xd9f\\xdc_\\x19\\x02N\\xb8H\\x8c\\xfd\\xb1\\\\\\xa9Z\\xc2\\x18\\x8a\\xda\\xe3\\xf3y\"\\xb7G\\xab\\xfbZ:\\xfdN\\xa0K>\\x14N\\x9b\\x13\\xe1\\xdd\\xdf\\x19\\xc4\\xcc\\x0b\\xc8\\xbb\\xb3\\xd95\\x8a\\x94\\x8eP(Y\\x1dI\\x85\\xfeF\\xe2(\\x1a\\x8a\\x992\\xda\\x12\\xe5\\xc2$] \\x92\\x0ff\\xf2\\x0b]\\xc1\\xb1hc\\xb1z\\x7f|\\xb5\\xd1O\\x0c\\xa7\\xb0u%4Q~R3\\xd7\\x11:\\x1a\\xe9\\xe4}\\xf48\\xb7\\x8b\\xa0\\x98\\xd8%\\xe3\\xa2\\x16\\xe3\\xe0_\\r\\x0e=tz\\xf80^]\\xc1\\x00\\xd1\\x92b\\x8a\\x0c\\x98\\xfa\\xb4\\x81=\\x01*\\xde\\xa5\\xc9\\xf4)\\xe4W\\x91\\xe3\\xb1(\\x80\\xc7\\x15\\xa9G\\x80g6)\\xe8r\\x82\\xe6\\xdb*\\xf3\\xde\\xeb\\xb2)\\xd6\\x8a\\x02\\x94\\x17\\x99\\x97=\\xc1P>\\xce\\xea:%\\x83\\x85\\xf8\\xd3y\\xf8\\x9b\\x95F\\xe7\\x94\\xef\\xf1\\xa3\\x98t\\xc3\\xdd\\t_\\x7f\\x0c\\xd5t\\xc0\\xf7\\xcb>\\x8d+jLY\\x19Uf\\x16\\xb3\\xf3\\x7fD'\n",
      "Hi, my name is Sebastian Xavier Maximilien Hennebry and I am a Masters' student in Cybersecurity at the University of Adelaide.\n",
      "{'Key Size': 2048, 'Public Exponent': 65537, 'Prime Size': 1024, 'Hash Function': 'sha256', 'RSA Key Generation Time': 5.185039043426514, 'DES Key Generation Time': None}\n",
      "b'1\\xce\\xdd\\xea\\x90\\xf3$\\xafT\\xaa3\\xe5\\x8e\\x7f$0\\xa1\\xd9IF\\xe7z\\x93^\\x12\\xcb\\xba\\xd7\\x83\\xeb\\xd4D\\xb7u(i:\\x1dB\\xd8bP\\x0b5\\xe9\\xeb\\x9cC\\xb2\\x1d\\x84\\xa8f!\\xc8,Cj\\x90\\x04[\\xb0\\t\\x8f4\\xef\\xdf\\x96\\xc7IK\\xe2$\\x1b\\xbe\\xc1\\xe6\\xec\\xb0\\xea\\x93X\\x1e\\x99S\\xb1\\xdf\\xb7\\x9e\\xa1hck\\xbdV\\x1e-#A\\x12:\\x8b\\xa4\\x04B\\x90\\xeb\\xd7\\xd4yQ\\xf1\\t\\xa0\\xda\\xce\\xfa\\xfc\\xf4\\xbc\\xfa\\x82\\xfb\\x91D\\x01\\xa1\\x80\\tpgy\\xf3]<\\x1b\\x13\\xae\\xbc\\xf3\\x14Y)\\xba\\xba\\xb61%\\x01\\xe7\\xeb\\xc6$\\xdd\\xa1\\x99c{`\\xabB\\x8fS\\xcc%\\x81\\x94\\\\\\x90x\\xd0F\\x0e\\x18\\t\\xf8I_\\x12\\x93\\xe0\\xeePH\\x04\\xc9\\xdf\\x99\\xfa_\\x13?\\xf8\\x04\\xef\\x13\\xdaF\\x80\\xf7\\xd6\\x82\\xf6\\xa9\\x14\\x16\\xf9\\x0c\\x189a\\xdb\\xceEF\\xdc\\x95%m\\xaaJ\\x95\\xd7n\\x9b\"\\xaf\\xb9+\\xd8\\xbd\\x95\\xaa\\xa0`\\xcaL*\\xea\\x9a\\x18\\xf8#\\xd7K6\\xc0\\xacl\\x95%x >a\\xc5\\x98\\xc9\\x16N=oK\\xc3Nt|F\\x15F\\xab\\xa0'\n",
      "Hi, my name is Sebastian Xavier Maximilien Hennebry and I am a Masters' student in Cybersecurity at the University of Adelaide.\n",
      "(b'\\x9a9\\x87U\\x02*Rtk\\xd5\\x9e\\x16\\x82\\x16\\x13B', 5.0067901611328125e-06)\n",
      "Time Difference = 5.1850340366363525\n",
      "RSA is a more secure algorithm than AES since the difference in generation time 5.1850340366363525>0 implying that AES is faster and therefore less secure and AES will only accept two key parameters out of RSA (key size and generation time) since RSA generates prime numbers and incurs hash functions but AES does not do either of these.\n",
      "b\"A\\x97~\\xc5\\xe5\\xd2\\xfdKv\\xc6\\x14\\x90<\\xc3u\\x06vy\\xadn\\xfb%J\\xc6l\\x81\\xc7\\xe6\\x06\\xb3\\xda\\x06\\x12\\x04I\\x90\\xa0;\\xac\\xcfOr\\xa1\\ts%E\\xfd\\x97\\x02*^g\\x9e\\xce\\x82l\\xf4\\xc9KP{\\x9bqG|*\\xbb\\x11Q=(\\xb1{\\x04\\xae\\x89\\x8a\\x0b`V\\x13\\x8f\\xcd$\\xec\\xee\\xe2sf<F\\x8d7\\x9e\\x00\\xb7\\x06$?\\x97\\x0e\\xdd\\xfa\\x91G'\\xab\\xef\\xfaB\\xbc\\x1c\\x1f\\x89\\x7f\\xf8M\\xdeyi\\x157|%V\\xc0}\"\n",
      "Hi, my name is Sebastian Xavier Maximilien Hennebry and I am a Masters' student in Cybersecurity at the University of Adelaide.\n",
      "(b'krL\\xe9\\xa6\\xa5\\x87\\x1d', 3.0994415283203125e-06)\n",
      "Time Difference = 5.185035943984985\n",
      "RSA is a more secure algorithm than DES since the difference in generation time 5.185035943984985>0 implying that DES is faster and therefore less secure and DES will only accept two key parameters out of RSA (key size and generation time) since RSA generates prime numbers and incurs hash functions but DES does not do either of these.\n"
     ]
    }
   ],
   "source": [
    "\"\"\"Using if statement to develop user input prototype for testing RSA and DES.\"\"\"\n",
    "if __name__ == \"__main__\":\n",
    "    rsa = RSACrypto(key_size=2048, hash_function='sha256')\n",
    "    user_input = input(\"Please enter a message:\")\n",
    "    encrypted_message = rsa.public_encrypt(user_input)\n",
    "    decrypted_message = rsa.private_decrypt(encrypted_message)\n",
    "    print(encrypted_message)\n",
    "    print(decrypted_message)\n",
    "    print(rsa.get_security_parameters())\n",
    "    key_1 = get_random_bytes(16)\n",
    "    AES_instance = AES.new(key_1, AES.MODE_ECB)\n",
    "    encrypted_AES = AES_instance.encrypt(pad(user_input.encode('utf-16'), AES.block_size))\n",
    "    decrypted_AES = unpad(AES_instance.decrypt(encrypted_AES), AES.block_size)\n",
    "    print(encrypted_AES)\n",
    "    print(decrypted_AES.decode('utf-16'))\n",
    "    print(rsa.generate_AES_key())\n",
    "    difference_1 = rsa.RSA_generation_time - rsa.AES_generation_time\n",
    "    print(\"Time Difference =\",difference_1)\n",
    "    print(f\"RSA is a more secure algorithm than AES since the difference in generation time {difference_1}>0 implying that AES is faster and therefore less secure and AES will only accept two key parameters out of RSA (key size and generation time) since RSA generates prime numbers and incurs hash functions but AES does not do either of these.\")\n",
    "    key_2 = get_random_bytes(8)\n",
    "    DES_instance = DES.new(key_2, DES.MODE_ECB)\n",
    "    encrypted_DES = DES_instance.encrypt(pad(user_input.encode('utf-8'), DES.block_size))\n",
    "    decrypted_DES = unpad(DES_instance.decrypt(encrypted_DES), DES.block_size)\n",
    "    print(encrypted_DES)\n",
    "    print(decrypted_DES.decode('utf-8'))\n",
    "    print(rsa.generate_DES_key())\n",
    "    difference_2 = rsa.RSA_generation_time - rsa.DES_generation_time\n",
    "    print(\"Time Difference =\",difference_2)\n",
    "    print(f\"RSA is a more secure algorithm than DES since the difference in generation time {difference_2}>0 implying that DES is faster and therefore less secure and DES will only accept two key parameters out of RSA (key size and generation time) since RSA generates prime numbers and incurs hash functions but DES does not do either of these.\")"
   ]
  },
  {
   "cell_type": "code",
   "execution_count": null,
   "id": "fee8fd36-62a4-40ae-922c-f1de0340d500",
   "metadata": {},
   "outputs": [],
   "source": []
  }
 ],
 "metadata": {
  "kernelspec": {
   "display_name": "Python [conda env:3]",
   "language": "python",
   "name": "conda-env-3-py"
  },
  "language_info": {
   "codemirror_mode": {
    "name": "ipython",
    "version": 3
   },
   "file_extension": ".py",
   "mimetype": "text/x-python",
   "name": "python",
   "nbconvert_exporter": "python",
   "pygments_lexer": "ipython3",
   "version": "3.10.6"
  }
 },
 "nbformat": 4,
 "nbformat_minor": 5
}
