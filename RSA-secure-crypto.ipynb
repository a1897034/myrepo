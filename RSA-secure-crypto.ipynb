{
 "cells": [
  {
   "cell_type": "code",
   "execution_count": 1,
   "id": "b8e4c916",
   "metadata": {
    "jupyter": {
     "is_executing": true
    }
   },
   "outputs": [
    {
     "name": "stdout",
     "output_type": "stream",
     "text": [
      "Defaulting to user installation because normal site-packages is not writeable\n",
      "Requirement already satisfied: pycryptodome in /Users/max/Library/Python/3.10/lib/python/site-packages (3.22.0)\n",
      "Requirement already satisfied: cryptography in /Users/max/Library/Python/3.10/lib/python/site-packages (44.0.2)\n",
      "Requirement already satisfied: cffi>=1.12 in /Users/max/Library/Python/3.10/lib/python/site-packages (from cryptography) (1.16.0)\n",
      "Requirement already satisfied: pycparser in /Users/max/Library/Python/3.10/lib/python/site-packages (from cffi>=1.12->cryptography) (2.21)\n"
     ]
    }
   ],
   "source": [
    "\"\"\"Installing all the relevant packages for testing.\"\"\"\n",
    "!pip install pycryptodome cryptography"
   ]
  },
  {
   "cell_type": "code",
   "execution_count": 2,
   "id": "bc6fc184-c7f9-49f8-8b18-2c8a06dc1326",
   "metadata": {
    "jupyter": {
     "is_executing": true
    }
   },
   "outputs": [],
   "source": [
    "\"\"\"Importing all necessary modules from pycryptodome and cryptography packages for the algorithm.\"\"\"\n",
    "from cryptography.hazmat.primitives import asymmetric, serialization, hashes\n",
    "from cryptography.hazmat.primitives.asymmetric import padding\n",
    "from Crypto.PublicKey import RSA\n",
    "from Crypto.Cipher import AES, DES, PKCS1_OAEP\n",
    "from Crypto.Random import get_random_bytes\n",
    "from Crypto.Util.number import getPrime\n",
    "from Crypto.Util.Padding import pad, unpad\n",
    "import socket\n",
    "import base64\n",
    "import time\n",
    "import hashlib\n",
    "\n",
    "\"\"\"Creating a suitable class in order to encrypt and decrypt messages using the algorithms.\"\"\"\n",
    "class RSACrypto:\n",
    "    def __init__(self, key_size=2048, public_exponent=65537, prime_size=1024, hash_function='SHA-256'):\n",
    "        \"\"\"Initializes all the evaluation parameters for the algorithm.\"\"\"\n",
    "        self.key_size = key_size\n",
    "        self.key_size = key_size\n",
    "        self.public_exponent = public_exponent\n",
    "        self.hash_function = hash_function\n",
    "        self.prime_size = prime_size\n",
    "        self.RSA_generation_time = None\n",
    "        self.DES_generation_time = None\n",
    "        self.generate_keys()\n",
    "        \n",
    "    def generate_keys(self):\n",
    "        \"\"\"Generates RSA key pair with defined parameters.\"\"\"\n",
    "        start_time = time.time()\n",
    "        key = RSA.generate(self.key_size, e=self.public_exponent)\n",
    "        self.private_key = key.export_key()\n",
    "        self.public_key = key.publickey().export_key()\n",
    "        self.RSA_generation_time = time.time() - start_time\n",
    "        \n",
    "    def generate_AES_key(self):\n",
    "        \"\"\"Generates a single key for AES (Advanced Encryption Standard).\"\"\"\n",
    "        start_time = time.time()\n",
    "        key = get_random_bytes(16)\n",
    "        end_time = time.time()\n",
    "        self.AES_generation_time = end_time - start_time\n",
    "        return key, self.AES_generation_time\n",
    "\n",
    "    def generate_DES_key(self):\n",
    "        \"\"\"Generates a single key for DES (Data Encryption Standard).\"\"\"\n",
    "        start_time = time.time()\n",
    "        key = get_random_bytes(8)\n",
    "        end_time = time.time()\n",
    "        self.DES_generation_time = end_time - start_time\n",
    "        return key, self.DES_generation_time\n",
    "    \n",
    "    def public_encrypt(self, message):\n",
    "        \"\"\"Encrypts a message using the public key.\"\"\"\n",
    "        if self.public_key is None:\n",
    "            raise ValueError(\"Public key not generated or loaded.\")\n",
    "        key = RSA.import_key(self.public_key)\n",
    "        cipher = PKCS1_OAEP.new(key)\n",
    "        encrypted_message = cipher.encrypt(message.encode())\n",
    "        return encrypted_message\n",
    "    \n",
    "    def private_decrypt(self, encoded_message):\n",
    "        \"\"\"Decrypts a message using the private key.\"\"\"\n",
    "        if self.private_key is None:\n",
    "            raise ValueError(\"Private key not available.\")\n",
    "        \n",
    "        key = RSA.import_key(self.private_key)\n",
    "        cipher = PKCS1_OAEP.new(key)\n",
    "        decrypted_message = cipher.decrypt(encoded_message)\n",
    "        return decrypted_message.decode()\n",
    "\n",
    "    def get_security_parameters(self):\n",
    "        \"\"\"Returns security-related parameters.\"\"\"\n",
    "        return {\n",
    "            'Key Size': self.key_size,\n",
    "            'Public Exponent': self.public_exponent,\n",
    "            'Prime Size': self.prime_size,\n",
    "            'Hash Function': self.hash_function,\n",
    "            'RSA Key Generation Time': self.RSA_generation_time,\n",
    "            'DES Key Generation Time': self.DES_generation_time\n",
    "        }"
   ]
  },
  {
   "cell_type": "code",
   "execution_count": 3,
   "id": "a81bc4b3-dd27-4a04-b0b7-4da311557655",
   "metadata": {
    "jupyter": {
     "is_executing": true
    }
   },
   "outputs": [
    {
     "name": "stdout",
     "output_type": "stream",
     "text": [
      "{'blake2b', 'whirlpool', 'mdc2', 'sha3_224', 'md5-sha1', 'sha512_224', 'sha512_256', 'sha384', 'sha3_256', 'sm3', 'sha224', 'blake2s', 'md4', 'sha3_512', 'sha256', 'sha1', 'md5', 'shake_128', 'ripemd160', 'sha512', 'shake_256', 'sha3_384'}\n"
     ]
    }
   ],
   "source": [
    "\"\"\"Printing names of available hash functions.\"\"\"\n",
    "print(hashlib.algorithms_available)"
   ]
  },
  {
   "cell_type": "code",
   "execution_count": 4,
   "id": "33d30079-5f30-4845-93cd-2095b72cad12",
   "metadata": {
    "jupyter": {
     "is_executing": true
    }
   },
   "outputs": [
    {
     "name": "stdin",
     "output_type": "stream",
     "text": [
      "Please enter a message: Hello, World!\n"
     ]
    },
    {
     "name": "stdout",
     "output_type": "stream",
     "text": [
      "b'\\x02[\\x9b\\xe8}\\x0c6q\\xc8\\xb8\\xc1\\x80\\'\\xdf6M\\xf1\\xe4o=\\x8f\\xd2\\x16\\xcb\\x94\\x85\\xf8\\xebzY\\xbd\\x02p\\xf0\\xca\\xfc\\x12\\xf8\\x90\\x7f\\xf9g6O\\x7f.j,\\x88[:\\x19\\xb2\\x17Eg\\x04u\\x9b\\xfb\\xf1:\\xae\\xd0\\xba&\\xb2\\xdd\\x88 \\x8et+\\xde0^\\x86\\x1e\\xb6\\xb6\\xb0\\xee;N\\xa92?~\\xf4\\x8f\\'\\xf51\\x17\\xe9\\x1cy\\x88#Jb\\x84\\xcfE[sm\\xdf\\x1e\\x85\\xd5\\x92u}\\x854\\x93{a\"\\x93\\xf6\\x03\\xe1\\x9e=\\xd3\\x18+\\xa2-\\x14EG5\\xcfO\\xf1\\xbd^/?j\\xe8\\xa3\\xcc\\x9a\\xd6P\\x13\\x08\\x0c\\x05\\xc0\\x84j\\x15#R\\xccp\\t\\xc3iV\\x88\\xa9\\xcf\\\\\\xc4\\xce\\xbaO\\x0f\\xc3\\xed\\x12\\x86\\xb6\\xa1\\x82%\\x05\\x96\\x19\\xf2\\x88l\\xeeD\\x98%\\xee\\xeb@!_\\x1fHN\\xc3ul\\x7fe\\x90w\\xae\\xd2$\\xe8\\xbcDAr\\xfe\\xd46\\x82\\x1f\\xcb\\x85!G7\\xc9\\x9f\\\\\\x9c\\x16\\xc8\\x810\\x92eU \\x89\\x92\"R)\\x81\\r\\xb7\\x1d\\xb8ul\\x86\\x921\\x00w/m'\n",
      "Hello, World!\n",
      "{'Key Size': 2048, 'Public Exponent': 65537, 'Prime Size': 1024, 'Hash Function': 'sha256', 'RSA Key Generation Time': 1.0341458320617676, 'DES Key Generation Time': None}\n",
      "b'\\xf3\\xe5\\x90\\xb7\\xc7\\xf6(\\xd9Wj\\xff\\xd0g\\xbe\\x89r\\xa5\\x9b|\\xdb\\xc3\\xf5J\\x98eN\\xb6\\x1ek+\\xbc\\xee'\n",
      "Hello, World!\n",
      "(b\"\\xdf$\\xd64O\\xa0aZ\\xe1\\xda\\x90$n?\\x0f'\", 4.0531158447265625e-06)\n",
      "Time Difference = 1.0341417789459229\n",
      "RSA is a more secure algorithm than AES since the difference in generation time 1.0341417789459229>0 implying that AES is faster and therefore less secure and AES will only accept two key parameters out of RSA (key size and generation time) since RSA generates prime numbers and incurs hash functions but AES does not do either of these.\n",
      "b'4m\\xe4\\x8d\\x85$\\xad\\xf5A\\x891\\xb0\\xec\\xd9\\x87\\xe0'\n",
      "Hello, World!\n",
      "(b'Z2|\\x0bc\\xb6z\\x97', 2.86102294921875e-06)\n",
      "Time Difference = 1.0341429710388184\n",
      "RSA is a more secure algorithm than DES since the difference in generation time 1.0341429710388184>0 implying that DES is faster and therefore less secure and DES will only accept two key parameters out of RSA (key size and generation time) since RSA generates prime numbers and incurs hash functions but DES does not do either of these.\n"
     ]
    }
   ],
   "source": [
    "\"\"\"Using if statement to develop user input prototype for testing the algorithms RSA, AES and DES.\"\"\"\n",
    "if __name__ == \"__main__\":\n",
    "    rsa = RSACrypto(key_size=2048, hash_function='sha256')\n",
    "    user_input = input(\"Please enter a message:\")\n",
    "    encrypted_message = rsa.public_encrypt(user_input)\n",
    "    decrypted_message = rsa.private_decrypt(encrypted_message)\n",
    "    print(encrypted_message)\n",
    "    print(decrypted_message)\n",
    "    print(rsa.get_security_parameters())\n",
    "    key_1 = get_random_bytes(16)\n",
    "    AES_instance = AES.new(key_1, AES.MODE_ECB)\n",
    "    encrypted_AES = AES_instance.encrypt(pad(user_input.encode('utf-16'), AES.block_size))\n",
    "    decrypted_AES = unpad(AES_instance.decrypt(encrypted_AES), AES.block_size)\n",
    "    print(encrypted_AES)\n",
    "    print(decrypted_AES.decode('utf-16'))\n",
    "    print(rsa.generate_AES_key())\n",
    "    difference_1 = rsa.RSA_generation_time - rsa.AES_generation_time\n",
    "    print(\"Time Difference =\",difference_1)\n",
    "    print(f\"RSA is a more secure algorithm than AES since the difference in generation time {difference_1}>0 implying that AES is faster and therefore less secure and AES will only accept two key parameters out of RSA (key size and generation time) since RSA generates prime numbers and incurs hash functions but AES does not do either of these.\")\n",
    "    key_2 = get_random_bytes(8)\n",
    "    DES_instance = DES.new(key_2, DES.MODE_ECB)\n",
    "    encrypted_DES = DES_instance.encrypt(pad(user_input.encode('utf-8'), DES.block_size))\n",
    "    decrypted_DES = unpad(DES_instance.decrypt(encrypted_DES), DES.block_size)\n",
    "    print(encrypted_DES)\n",
    "    print(decrypted_DES.decode('utf-8'))\n",
    "    print(rsa.generate_DES_key())\n",
    "    difference_2 = rsa.RSA_generation_time - rsa.DES_generation_time\n",
    "    print(\"Time Difference =\",difference_2)\n",
    "    print(f\"RSA is a more secure algorithm than DES since the difference in generation time {difference_2}>0 implying that DES is faster and therefore less secure and DES will only accept two key parameters out of RSA (key size and generation time) since RSA generates prime numbers and incurs hash functions but DES does not do either of these.\")"
   ]
  },
  {
   "cell_type": "code",
   "execution_count": 5,
   "id": "65b2bcbdece58f78",
   "metadata": {},
   "outputs": [
    {
     "name": "stdin",
     "output_type": "stream",
     "text": [
      "Please enter a message: Hi, I am Max.\n"
     ]
    },
    {
     "name": "stdout",
     "output_type": "stream",
     "text": [
      "b'<\\x98\\x89G\\xe7|\\x03\\xcc;\\xe7\\x0eG1\\x8c\\xc2\\x81=\\xd4\\xf7\\xd1\\x1al\\xd1\\x12H\\x0f\\xf9H-}[\\x06\\x8e>\\xc8\\x84\\x1e`J\\xd6\\xd92\\xcdA\\x16\\xa3\\x821\\x1f\\xbc\\t\\x1a\\xcd\\x8e[Y\\xf8\\r\\x1f}\\x82\\x872LO\\x9a6\\xea7!\\xd1\\xaf\\'j7\\x05\\xed\\xbaa*=u\\x9a\\x10\\x9b\\x11\\xb5[\\x82\\x86\\x87$\\x86\\x08\\xdar\\xc6S\\x85\\xc7B\\xd4\\xb2|5\\x81\\xbb\\xc3\\xa4\\x9d{\\xed\\x0f\\x00X\\xc3y\\x1e\\xd48K_8\\xe8!\\xae\\xc0>\\xccc\\x89\\xeb\\xfb.\\xe6\\x02\\xf5\\xf3\\x05~\\xca\\xfaa<[7\\x98\\xf6\\x7f\\x10\\xba\\x81cJ\\xc2C\\xb5c\\x0b\\xed8\\xbc(\\xcdx{\\x17OI>i\\xf3\\x1b\\xd4\\x05\")\\x0bp\\x02\\xac\\x12i\\xff\\x7fm\\x91P\\x07Ol\\x18g\\xa7w\\x8a\\'\\x1c\\xf8\\xcc}O\\x05i\\xa2\\xaf\\xbc)\\xbc\\x12\\xaa\\x9acL\\xc9\\x84Qe2|U`\\x14\\x1a\\xfe\\xe1d\\x1f\\xb9?D=\\xcbz\\x01\\x1e&\\x17;\\x9c\\x93\\x1b\\xe9{\\xfe\\xc2\\xfek\\xaaE\\xb55\\xee\\x83r7'\n",
      "Hi, I am Max.\n",
      "{'Key Size': 2048, 'Public Exponent': 65537, 'Prime Size': 1024, 'Hash Function': 'sha256', 'RSA Key Generation Time': 3.46663498878479, 'DES Key Generation Time': None}\n",
      "b'\\x1a_\\x81m\\x9a\\x03\\xc6\\xa0i\"/\\xcf\\xe3?\\xe71\\n\\x93qx\\x14\\xd4\\xa7\\xf4\\xf7k0%Hw_\\xbc'\n",
      "Hi, I am Max.\n",
      "(b\"\\xee\\xf5W\\x87@\\x9e}Y\\xb42'5|6\\xe0Z\", 2.86102294921875e-06)\n",
      "Time Difference = 3.466632127761841\n",
      "RSA is a more secure algorithm than AES since the difference in generation time 3.466632127761841>0 implying that AES is faster and therefore less secure and AES will only accept two key parameters out of RSA (key size and generation time) since RSA generates prime numbers and incurs hash functions but AES does not do either of these.\n",
      "b'\\x96\\xba\\xe7Q\\x81\\x9a\\xd1-P\\xee\\xa0|%U\\xbb\\xb6'\n",
      "Hi, I am Max.\n",
      "(b'\\xbe*\\x12\\x04\\x98\\x02nB', 1.6689300537109375e-06)\n",
      "Time Difference = 3.4666333198547363\n",
      "RSA is a more secure algorithm than DES since the difference in generation time 3.4666333198547363>0 implying that DES is faster and therefore less secure and DES will only accept two key parameters out of RSA (key size and generation time) since RSA generates prime numbers and incurs hash functions but DES does not do either of these.\n"
     ]
    }
   ],
   "source": [
    "\"\"\"Using if statement to develop user input prototype for testing RSA, AES and DES.\"\"\"\n",
    "if __name__ == \"__main__\":\n",
    "    rsa = RSACrypto(key_size=2048, hash_function='sha256')\n",
    "    user_input = input(\"Please enter a message:\")\n",
    "    encrypted_message = rsa.public_encrypt(user_input)\n",
    "    decrypted_message = rsa.private_decrypt(encrypted_message)\n",
    "    print(encrypted_message)\n",
    "    print(decrypted_message)\n",
    "    print(rsa.get_security_parameters())\n",
    "    key_1 = get_random_bytes(16)\n",
    "    AES_instance = AES.new(key_1, AES.MODE_ECB)\n",
    "    encrypted_AES = AES_instance.encrypt(pad(user_input.encode('utf-16'), AES.block_size))\n",
    "    decrypted_AES = unpad(AES_instance.decrypt(encrypted_AES), AES.block_size)\n",
    "    print(encrypted_AES)\n",
    "    print(decrypted_AES.decode('utf-16'))\n",
    "    print(rsa.generate_AES_key())\n",
    "    difference_1 = rsa.RSA_generation_time - rsa.AES_generation_time\n",
    "    print(\"Time Difference =\",difference_1)\n",
    "    print(f\"RSA is a more secure algorithm than AES since the difference in generation time {difference_1}>0 implying that AES is faster and therefore less secure and AES will only accept two key parameters out of RSA (key size and generation time) since RSA generates prime numbers and incurs hash functions but AES does not do either of these.\")\n",
    "    key_2 = get_random_bytes(8)\n",
    "    DES_instance = DES.new(key_2, DES.MODE_ECB)\n",
    "    encrypted_DES = DES_instance.encrypt(pad(user_input.encode('utf-8'), DES.block_size))\n",
    "    decrypted_DES = unpad(DES_instance.decrypt(encrypted_DES), DES.block_size)\n",
    "    print(encrypted_DES)\n",
    "    print(decrypted_DES.decode('utf-8'))\n",
    "    print(rsa.generate_DES_key())\n",
    "    difference_2 = rsa.RSA_generation_time - rsa.DES_generation_time\n",
    "    print(\"Time Difference =\",difference_2)\n",
    "    print(f\"RSA is a more secure algorithm than DES since the difference in generation time {difference_2}>0 implying that DES is faster and therefore less secure and DES will only accept two key parameters out of RSA (key size and generation time) since RSA generates prime numbers and incurs hash functions but DES does not do either of these.\")"
   ]
  },
  {
   "cell_type": "code",
   "execution_count": 6,
   "id": "83c6215f-e8e1-42c7-ab3c-9c7d896ce2b7",
   "metadata": {},
   "outputs": [
    {
     "name": "stdin",
     "output_type": "stream",
     "text": [
      "Please enter a message: How I wish I could calculate pi.\n"
     ]
    },
    {
     "name": "stdout",
     "output_type": "stream",
     "text": [
      "b'u\\x81\\xa0u]\\xab\\xcc\\xe9\\xaexj@\\x12\\xc5\\xa2\\x0f0\\xa3\\r9\\xd8\\x9d~lu1QUS\\xa8R\\x89\\xb8<\"\\x03*\\x84\\xc4\\xd1\\xf0\\x10\\xfe\"\\xd4&n\\xce\\xb5\\x84\\xa8\\x91\\xe6~\\x88\\xc6]\\x81&\\xff\\x1b\\x05\\xec3\\xfb#\\xdd3\\x9c\"\\xfb\\xfa&iU-\\xa0\\xdc\\xa8\\xedv\\xdc\\xa0\\xb2\\x1a\\x03\\xdd\\x90\\xe0\\x94\\xb3\\xa7\\x93\\xafb\\x1chZ|\\xd5\\xbf\\x8a\\xca\\x18\\xed\\xdf>=\\xec<\\xb3;\\xc7\\x89\\xf7[\\x8e}H\\xc8\\xd4\\x8c\\xdfJY\\xea\\x9a\\xd0\\xbfS\\x9a}D\\xfdwV3\\x91\\xf7;\\xa3\\x8dy\\x9fO\"M}\\xc9\\x85\\x8d\\x0cT\\x99\\x05\\x0e\\x14x\\xfc+\\xacZ;\\xe8\\xcc\\xd9#\\xe07\\xd0\\xe2\\x92t^\\x02\\xd0\\x88\\t\\x96\\xf0\\xe6\\xb8\\xe7\\xf7\\x911\\x07\\xd8\\xa6\\xcfy\\xfaAns\\xb4P\\x18\\x99X=\\xe0\\xd6J\\x98\\x9co\\xc7\\xceK9\\x8e\\xe0\\x7fC\\xb3\\x0fG\\x1d\\xbe\\xf5\\xba\\xac\\xa2\\xbb\\x94\\xf7q`&\\xe8\\xecfHi\\x0c\\xf1\\x1eD\\x94?,\\xb3p:Y\\xa9/\\xea\\x8bE5\\xcfG:D'\n",
      "How I wish I could calculate pi.\n",
      "{'Key Size': 2048, 'Public Exponent': 65537, 'Prime Size': 1024, 'Hash Function': 'sha256', 'RSA Key Generation Time': 0.06812596321105957, 'DES Key Generation Time': None}\n",
      "b'\\x96\\x10\\x80g\\xa5\\x05_y\\xb4\\xa4J\\r\\xa7\\xe8;\\xb2\\xc0D\\xdd\\x14\\x84\\xba\\x9f\\xc3\\x92\\x0f\\x95)\\xe7\\xbbv\\xd3\\xde:\\xe7\\x9e\\xdblj\\xc4\\xa18\\xa3\\xc9\\xc2\\x87\\xd0g\\xa1\\x95\\xdf\\xab\\xbbL\\xbb\\x94H\\xa5y\\xcf\\n\\xd4kjf\\xbc\\xf7\\x9e\\xfa\\xd8\\x99\\x13\\x80\\xfb\\xf2\\xafEN\\xa1!'\n",
      "How I wish I could calculate pi.\n",
      "(b'7[\\xffl\\x1dD\\xd0\\x04\\xdb\\xa1\\xbenq\\xd2\\xde\\x97', 2.6226043701171875e-06)\n",
      "Time Difference = 0.06812334060668945\n",
      "RSA is a more secure algorithm than AES since the difference in generation time 0.06812334060668945>0 implying that AES is faster and therefore less secure and AES will only accept two key parameters out of RSA (key size and generation time) since RSA generates prime numbers and incurs hash functions but AES does not do either of these.\n",
      "b'\\xe2\\x12\\xd9<\\x86E\\x9ci8\\xcc\\x8f3\\x10\\xa5\\xacBa\\x0b\\x05v\\xa5\\x9bD-g\\x11\\xc5\\\\\\xa9\\x97\\xe9\\xd3\\xa7\\xa6\\x9c\\xad\\xe6\\x82w-'\n",
      "How I wish I could calculate pi.\n",
      "(b'!\\xb1\\x94\\xda5\\x11%\\xff', 2.1457672119140625e-06)\n",
      "Time Difference = 0.06812381744384766\n",
      "RSA is a more secure algorithm than DES since the difference in generation time 0.06812381744384766>0 implying that DES is faster and therefore less secure and DES will only accept two key parameters out of RSA (key size and generation time) since RSA generates prime numbers and incurs hash functions but DES does not do either of these.\n"
     ]
    }
   ],
   "source": [
    "\"\"\"Using if statement to develop user input prototype for testing RSA, AES and DES.\"\"\"\n",
    "if __name__ == \"__main__\":\n",
    "    rsa = RSACrypto(key_size=2048, hash_function='sha256')\n",
    "    user_input = input(\"Please enter a message:\")\n",
    "    encrypted_message = rsa.public_encrypt(user_input)\n",
    "    decrypted_message = rsa.private_decrypt(encrypted_message)\n",
    "    print(encrypted_message)\n",
    "    print(decrypted_message)\n",
    "    print(rsa.get_security_parameters())\n",
    "    key_1 = get_random_bytes(16)\n",
    "    AES_instance = AES.new(key_1, AES.MODE_ECB)\n",
    "    encrypted_AES = AES_instance.encrypt(pad(user_input.encode('utf-16'), AES.block_size))\n",
    "    decrypted_AES = unpad(AES_instance.decrypt(encrypted_AES), AES.block_size)\n",
    "    print(encrypted_AES)\n",
    "    print(decrypted_AES.decode('utf-16'))\n",
    "    print(rsa.generate_AES_key())\n",
    "    difference_1 = rsa.RSA_generation_time - rsa.AES_generation_time\n",
    "    print(\"Time Difference =\",difference_1)\n",
    "    print(f\"RSA is a more secure algorithm than AES since the difference in generation time {difference_1}>0 implying that AES is faster and therefore less secure and AES will only accept two key parameters out of RSA (key size and generation time) since RSA generates prime numbers and incurs hash functions but AES does not do either of these.\")\n",
    "    key_2 = get_random_bytes(8)\n",
    "    DES_instance = DES.new(key_2, DES.MODE_ECB)\n",
    "    encrypted_DES = DES_instance.encrypt(pad(user_input.encode('utf-8'), DES.block_size))\n",
    "    decrypted_DES = unpad(DES_instance.decrypt(encrypted_DES), DES.block_size)\n",
    "    print(encrypted_DES)\n",
    "    print(decrypted_DES.decode('utf-8'))\n",
    "    print(rsa.generate_DES_key())\n",
    "    difference_2 = rsa.RSA_generation_time - rsa.DES_generation_time\n",
    "    print(\"Time Difference =\",difference_2)\n",
    "    print(f\"RSA is a more secure algorithm than DES since the difference in generation time {difference_2}>0 implying that DES is faster and therefore less secure and DES will only accept two key parameters out of RSA (key size and generation time) since RSA generates prime numbers and incurs hash functions but DES does not do either of these.\")"
   ]
  },
  {
   "cell_type": "code",
   "execution_count": 7,
   "id": "54396b86-30e6-4239-b2b0-0a54403a86b1",
   "metadata": {},
   "outputs": [
    {
     "name": "stdin",
     "output_type": "stream",
     "text": [
      "Please enter a message: The quick brown fox jumps over the lazy dog.\n"
     ]
    },
    {
     "name": "stdout",
     "output_type": "stream",
     "text": [
      "b'\\xb2\\x00SD\\xf8f\\xac\\xa5\\xe2\\xdb\\x91\\xe8\\x11\\xff\\x1e2\\x08J\\xc6]\\xc0F\\xd2yk\\xe3|q\\x1b\\xbd\\xcb\\xa0\\xc9\\x12\\xa1\\xf5h\\xf1\\x89\\x03\\x97\\x102\\\\LD\\x0e\\x15w\\xa3\\xef\\xd4\\x97\\x9f\\x996\\xe4\\xb8E\\xb9/K\\xb5i5\\x1bK\\x1a\\x81O\\xd6\\xf7\\xa3\\xdcm\\xd0(\\x13\\xe9*\\x9aI\\xd3\\x04K\\xb7\\x89\\x97\\xf2b\\xdc5\\xcd\\xe4\\x94\\xaaFgJwU\\x82\\xcf\\x85.}\\xf8#\\xda\\xba\\xf19\\xa9>\\x94V>\\xceU\\xb20u\\x93\\xae\\x05r_\\xae\\x08\\x9aX*\\x8d\\xa6\\xda\\x07\\xfb\\x913\\xe7\\x1c\\xddS\\x17\\xb0g~\\xcd\\xb4\\x05\\xcc\\xb4\\'\\x14ESm\\x12\\xa7*\\x91\\nm\\xf4p\\xefU+\\xff$~AB\\xf6\\x80\\xb2\\nE8(I\\xf6\\xca\\xadi\\xc1\\xc7\\xa9\\xa1\\x99Y\\xb8\\x83\\xdf\\xfb\\x07\\xbbp<\\xed`A\\xd3@s\\x91X\\x06\\xe8\\x9fEE\\xce\\xffD?\\xc1\\xa2I.+]U\\x16\\x13\\xe9 \\xb0|\\x04v\\xa2\\xc2\"\\xe2]pZg\\xb9\\x8a\\x1b\\xc6\\xf1\\xb1P\\xe8\\xa1\\xf1~\\xe5\\xad\\xf9\\xad\\xf6\\xd3'\n",
      "The quick brown fox jumps over the lazy dog.\n",
      "{'Key Size': 2048, 'Public Exponent': 65537, 'Prime Size': 1024, 'Hash Function': 'sha256', 'RSA Key Generation Time': 1.5561628341674805, 'DES Key Generation Time': None}\n",
      "b'\\xd6\\x94u\\t\\xe6\\xe8\\x05\\xb0\\x88\\x99h\\x1c\\xa3K=\\x8a\\xb3\\x92g\\x95\\xecj\\xf6F\\xe9\\x0e/6\\xa1\\xd8\\xc1_\\x9c\\x9fF\\x94\\xe9R/%\\xab\\x101\\x12\\r=j\\xb9B\\x02\\xeb\\xad\\x89\\x0e\\xe7q\\x1c\\xca\\xab\\xeb\\x82\\n\\x1cz\\xbf\\xd7A-]Q\\xbbt\\x81\\xc1?\\x8c\\x12\\xdf\\xff\\xb3N\\x828\\xd9\\xac\\xcf\\xd5J\\xd0H\\xf0\\x93f\\xa1\\xed]'\n",
      "The quick brown fox jumps over the lazy dog.\n",
      "(b'\\xd7\\xb6\\x19_?R\\xc5\\x06\\x81\\x11\\xf2\\x94\\xf7\\x8du\\x9e', 4.76837158203125e-06)\n",
      "Time Difference = 1.5561580657958984\n",
      "RSA is a more secure algorithm than AES since the difference in generation time 1.5561580657958984>0 implying that AES is faster and therefore less secure and AES will only accept two key parameters out of RSA (key size and generation time) since RSA generates prime numbers and incurs hash functions but AES does not do either of these.\n",
      "b\"\\xe4'\\xa9]\\xef\\xf4&\\x1c\\xf5\\xeb\\x81\\xfc\\xe6->\\xb6B\\xf3\\x06p,\\x15\\xe2G$@\\xab\\x07\\x90\\xef\\t2|\\x13\\\\\\xa9\\x13\\x9b\\x05\\xfbm5\\x86\\x06V!\\x11\\x00\"\n",
      "The quick brown fox jumps over the lazy dog.\n",
      "(b'\\xbb\\xac\\xab\\xac\\x9d>\\x90R', 1.9073486328125e-06)\n",
      "Time Difference = 1.5561609268188477\n",
      "RSA is a more secure algorithm than DES since the difference in generation time 1.5561609268188477>0 implying that DES is faster and therefore less secure and DES will only accept two key parameters out of RSA (key size and generation time) since RSA generates prime numbers and incurs hash functions but DES does not do either of these.\n"
     ]
    }
   ],
   "source": [
    "\"\"\"Using if statement to develop user input prototype for testing RSA, AES and DES.\"\"\"\n",
    "if __name__ == \"__main__\":\n",
    "    rsa = RSACrypto(key_size=2048, hash_function='sha256')\n",
    "    user_input = input(\"Please enter a message:\")\n",
    "    encrypted_message = rsa.public_encrypt(user_input)\n",
    "    decrypted_message = rsa.private_decrypt(encrypted_message)\n",
    "    print(encrypted_message)\n",
    "    print(decrypted_message)\n",
    "    print(rsa.get_security_parameters())\n",
    "    key_1 = get_random_bytes(16)\n",
    "    AES_instance = AES.new(key_1, AES.MODE_ECB)\n",
    "    encrypted_AES = AES_instance.encrypt(pad(user_input.encode('utf-16'), AES.block_size))\n",
    "    decrypted_AES = unpad(AES_instance.decrypt(encrypted_AES), AES.block_size)\n",
    "    print(encrypted_AES)\n",
    "    print(decrypted_AES.decode('utf-16'))\n",
    "    print(rsa.generate_AES_key())\n",
    "    difference_1 = rsa.RSA_generation_time - rsa.AES_generation_time\n",
    "    print(\"Time Difference =\",difference_1)\n",
    "    print(f\"RSA is a more secure algorithm than AES since the difference in generation time {difference_1}>0 implying that AES is faster and therefore less secure and AES will only accept two key parameters out of RSA (key size and generation time) since RSA generates prime numbers and incurs hash functions but AES does not do either of these.\")\n",
    "    key_2 = get_random_bytes(8)\n",
    "    DES_instance = DES.new(key_2, DES.MODE_ECB)\n",
    "    encrypted_DES = DES_instance.encrypt(pad(user_input.encode('utf-8'), DES.block_size))\n",
    "    decrypted_DES = unpad(DES_instance.decrypt(encrypted_DES), DES.block_size)\n",
    "    print(encrypted_DES)\n",
    "    print(decrypted_DES.decode('utf-8'))\n",
    "    print(rsa.generate_DES_key())\n",
    "    difference_2 = rsa.RSA_generation_time - rsa.DES_generation_time\n",
    "    print(\"Time Difference =\",difference_2)\n",
    "    print(f\"RSA is a more secure algorithm than DES since the difference in generation time {difference_2}>0 implying that DES is faster and therefore less secure and DES will only accept two key parameters out of RSA (key size and generation time) since RSA generates prime numbers and incurs hash functions but DES does not do either of these.\")"
   ]
  },
  {
   "cell_type": "code",
   "execution_count": 8,
   "id": "ca69b840-3630-4f53-9940-c109bc37870d",
   "metadata": {},
   "outputs": [
    {
     "name": "stdin",
     "output_type": "stream",
     "text": [
      "Please enter a message: And miles to walk before I sleep, and miles to walk before I sleep.\n"
     ]
    },
    {
     "name": "stdout",
     "output_type": "stream",
     "text": [
      "b'\\xa5\\x01M<G`\\xdc@\\xb7\\x1c\\xc6\\xda\\x1b:\\r\\x9a?\\x93=\\xa2S\\xd3\\xe6\\xb8\\xc4Ku\\x06B.q\\x9ad\\x84\\xc03\\x11^&\\xa1NB\\xa5\\xbb\\x1b\\xd0{\\xa1\\x81\\x9cD\\x8f:\\xcd\\x1bE\\x14\\xcc8\\x1auQ\\xa8)\\xb8\\xc1\\xc8\\x9c{\\xbe\\xfbw\\xd7\\x0c;\\xc4\\xf6\\xd4\\x86\\x17\\x95\\xc0\\x95\\xd5C\\xe5\\x97I\\xa4y\\xa7O\\x0f\\x9ez\\x84\\xb1{\\xd4\\xef.\"Nk\\xcf\\x08\\xb7\\xb7\\x8a\\x0bb\\xb6=\\xff\\x0b\\x7f6\\xdc\\x1cz\\xe9\\x8a\\xd2\\xf2\\xa2\\\\\\x9f\\x1a\\xa4 \\x9c\\x90\\xce]E\\xc6\\x7f\\xa2\\x02\\xbf7\\x81_\\x86\\x87\\xbd\\x87\\x94e\\xe1\\x89C\\xaf6\\r\\xb9O\\x8e2\\xd2W\\xed\\\\\\xcd^$\\xf5\\xb4\\xa7\\x94\\xe4\\xb6P*~\\x9f\\xdd\\x8d\\x0c\\xcd\\xd8|p\\xebm\\xe5\\xef\\xa3\\x9b\\xfb\\xc4\\xff\\xa69x8\\xb1\\xf4\\xc9\\x9aL\\x17<LNgy\\xee\\x16\\xcfX\\xf5k\\xe6\\x12\\to\\x9d\\xc1\\xbf&~M\\xf0\\xf3\\xcb\\xe1\\xd4~\\xd4\\xfd\\x84\\x8eC\\xc8\\x00\\xd4\\xa9\\xf6lXH\\xe6N9;\\xb6\\x83\\xc4\\xe7\\xf5\\xc1\\xac|Ke'\n",
      "And miles to walk before I sleep, and miles to walk before I sleep.\n",
      "{'Key Size': 2048, 'Public Exponent': 65537, 'Prime Size': 1024, 'Hash Function': 'sha256', 'RSA Key Generation Time': 1.2946410179138184, 'DES Key Generation Time': None}\n",
      "b'P\\xf17C\\x91\\xc4\\xfe\\x89JY\\xf2\\xd2\\x831\\'d\"\\xa3\\x1f\\xb3&\\\\>\\xff\\xcd\\x81\\xcd\\xecT`\\xb5\\x81\\xb6\\xbc6\\x9du\\xd0\\x07\\x18Tn\\xe8\\xe0\\xf5#::V\\xf8\\x88\\xe2\\xc9\\xc0\\xc5\\xac\\xfc\\xb3\\\\\\xc7i\\x03%^\\xffy\\xd7\\xa3V\\x03\\xe45\\xd9+\\xa0\\x83\\x84\\'(G{\\x10\\xa4\\x9a\\xc2\\xdf.{\\xa7\\xa1\\x83\\xe3T\\xd5\\xceR\\x0e)@\\x0f\\xb8\\xeb\\xd0\\x98tp\\xbc\\x18\\xe2T\\x8b, \\xd52\\xf3\\xc7\\x18Y\\x8a\\n8\\xc1g\\x1b\\xbeG\\xf5\\xd7\\x03xt+\\xcd8\\xdfI\\x9a\\xfb\\'p\\xfc\\xacI'\n",
      "And miles to walk before I sleep, and miles to walk before I sleep.\n",
      "(b'\\\\y\\xc5i;\\xde\\x0fb\\xea\\xb1\\xa8r\\x1e{\\xb5\\x84', 3.814697265625e-06)\n",
      "Time Difference = 1.2946372032165527\n",
      "RSA is a more secure algorithm than AES since the difference in generation time 1.2946372032165527>0 implying that AES is faster and therefore less secure and AES will only accept two key parameters out of RSA (key size and generation time) since RSA generates prime numbers and incurs hash functions but AES does not do either of these.\n",
      "b'\\xce\\xcf\\xea\\x99G=\\xce\\xf8\\xa7!)8\\xe6\\xd1)F\\xff\\'\\xc2Dc\"/\\xb2Pq\\x95\\xa7\\xba\\xa7\\xe4\\xe90\\xe4vGl^-\\x1b\\x02\\xb1\\xde\\xb8&\\t{\\x9e\\xa5\\x8c=\\x18R\\xab\\x99\\r\\xdf\\xf7\\x1b\\xed\\x013\\xb2\\xb2\\xca\\xa7\\xf6n/\\x83+\\x1b'\n",
      "And miles to walk before I sleep, and miles to walk before I sleep.\n",
      "(b'Ly\\x12\\xec\\x13\\xc9\\xd6\\x14', 2.1457672119140625e-06)\n",
      "Time Difference = 1.2946388721466064\n",
      "RSA is a more secure algorithm than DES since the difference in generation time 1.2946388721466064>0 implying that DES is faster and therefore less secure and DES will only accept two key parameters out of RSA (key size and generation time) since RSA generates prime numbers and incurs hash functions but DES does not do either of these.\n"
     ]
    }
   ],
   "source": [
    "\"\"\"Using if statement to develop user input prototype for testing RSA, AES and DES.\"\"\"\n",
    "if __name__ == \"__main__\":\n",
    "    rsa = RSACrypto(key_size=2048, hash_function='sha256')\n",
    "    user_input = input(\"Please enter a message:\")\n",
    "    encrypted_message = rsa.public_encrypt(user_input)\n",
    "    decrypted_message = rsa.private_decrypt(encrypted_message)\n",
    "    print(encrypted_message)\n",
    "    print(decrypted_message)\n",
    "    print(rsa.get_security_parameters())\n",
    "    key_1 = get_random_bytes(16)\n",
    "    AES_instance = AES.new(key_1, AES.MODE_ECB)\n",
    "    encrypted_AES = AES_instance.encrypt(pad(user_input.encode('utf-16'), AES.block_size))\n",
    "    decrypted_AES = unpad(AES_instance.decrypt(encrypted_AES), AES.block_size)\n",
    "    print(encrypted_AES)\n",
    "    print(decrypted_AES.decode('utf-16'))\n",
    "    print(rsa.generate_AES_key())\n",
    "    difference_1 = rsa.RSA_generation_time - rsa.AES_generation_time\n",
    "    print(\"Time Difference =\",difference_1)\n",
    "    print(f\"RSA is a more secure algorithm than AES since the difference in generation time {difference_1}>0 implying that AES is faster and therefore less secure and AES will only accept two key parameters out of RSA (key size and generation time) since RSA generates prime numbers and incurs hash functions but AES does not do either of these.\")\n",
    "    key_2 = get_random_bytes(8)\n",
    "    DES_instance = DES.new(key_2, DES.MODE_ECB)\n",
    "    encrypted_DES = DES_instance.encrypt(pad(user_input.encode('utf-8'), DES.block_size))\n",
    "    decrypted_DES = unpad(DES_instance.decrypt(encrypted_DES), DES.block_size)\n",
    "    print(encrypted_DES)\n",
    "    print(decrypted_DES.decode('utf-8'))\n",
    "    print(rsa.generate_DES_key())\n",
    "    difference_2 = rsa.RSA_generation_time - rsa.DES_generation_time\n",
    "    print(\"Time Difference =\",difference_2)\n",
    "    print(f\"RSA is a more secure algorithm than DES since the difference in generation time {difference_2}>0 implying that DES is faster and therefore less secure and DES will only accept two key parameters out of RSA (key size and generation time) since RSA generates prime numbers and incurs hash functions but DES does not do either of these.\")"
   ]
  },
  {
   "cell_type": "code",
   "execution_count": 9,
   "id": "fee8fd36-62a4-40ae-922c-f1de0340d500",
   "metadata": {},
   "outputs": [
    {
     "name": "stdin",
     "output_type": "stream",
     "text": [
      "Please enter a message: Hi, my name is Sebastian Xavier Maximilien Hennebry and I am a Masters' student in Cybersecurity at the University of Adelaide.\n"
     ]
    },
    {
     "name": "stdout",
     "output_type": "stream",
     "text": [
      "b\"h-\\x8eHhO\\x8d\\xcf\\xbb\\xfd+nD\\r\\x10\\xf5Fr\\xc6\\xb92\\x1f%\\xb5T*M?\\xa4\\x96\\xaa\\x15\\x9cOuK@^\\xff\\xde\\x07x.&\\xe9<\\xa9\\xd3\\xa7kt\\xacA\\x85\\x1d\\xdc\\xd8j\\x03\\x87\\xb5\\xc2^\\xa3>\\x99$\\x80\\xc5\\xfeJe\\x0284[\\x81\\xddW\\x0e[@\\x04\\xb7M\\xd08J\\xba\\x03\\x03#\\xcc@j\\x91\\x81\\x12\\xe9\\xc8)\\xa1P\\x9b\\xeb<\\xa4\\xa8U\\xf64\\xe6\\x15)\\xf2\\xc4a\\x9at\\xdf\\xb2q\\x01\\x02\\xe2*\\x9d\\xda\\xce\\xff\\xfb\\r\\xdai\\xd02\\xc1\\x10\\x82\\x0c\\x91;G\\xc6\\xdf\\x1f-\\xd0k\\xa9/3\\x93\\xdc\\xb5A/y\\x17\\xbc\\x93E\\xaf\\xfc\\xf8\\xa2\\x84\\x85\\x0e\\xc1\\xe8Uh\\xdar\\xb2\\xe3\\xd0H\\xd9X\\xf1 \\xcf6\\xf6h\\\\\\xb7)<U\\x97h\\x89\\x11\\xd5N\\xf7\\xb7\\x1a*\\xff\\xea\\xec\\x06\\xd1\\xf7\\x13\\xbf.\\xb5\\x9er\\x08\\n\\x1a\\x0b\\xebC\\r\\x9e\\x1d\\xdd'H\\x02\\xaa\\x88\\x88\\xbe\\xde\\x19l\\xda\\xb8\\x9a\\x9e\\x18\\x1e\\x85\\x05\\xff\\x8bp\\x83\\x83\\xddz\\t\\x9b\\x83O~M\\n\"\n",
      "Hi, my name is Sebastian Xavier Maximilien Hennebry and I am a Masters' student in Cybersecurity at the University of Adelaide.\n",
      "{'Key Size': 2048, 'Public Exponent': 65537, 'Prime Size': 1024, 'Hash Function': 'sha256', 'RSA Key Generation Time': 1.5109062194824219, 'DES Key Generation Time': None}\n",
      "b\"g7\\x10s{\\x0en\\x1eU\\x01\\xfb7\\xfaN-\\xd1\\x12\\x8e\\xe0-\\xd9\\x8dI\\x14\\x14X\\xb2:Q\\x1e\\x96\\xe4\\xd4\\xc3i\\xa6f\\xa0\\x16<\\x1c]\\xe6\\xca\\xea\\x12\\xe4\\x85|\\xae\\xa5\\xab\\x8fH\\xdb\\x86\\x0f7O(\\xc8A\\xb5\\x86p\\t\\xdbT\\xcb\\x95x\\x9d|\\xcd\\xdb\\xac\\x8f\\xa84D\\xe9\\x9f\\xda\\x950!\\xf9\\xe9\\x01i\\xb7\\xaa\\xd8\\r\\xb4vY\\xc0>\\x18\\xe7\\x9bG\\xcbC\\xc2a,\\x08z[\\xd8\\xc8\\xbc[\\x1d\\xfb\\xcei\\x1f\\xbf\\xf0\\x1b\\xdb\\xe7\\xfa\\x04\\xc3\\x83\\xb0\\xd7\\xac\\x00\\xd1\\xc8\\xb7L\\x9f\\xb6k\\xbc\\xcfA\\x95\\xa9\\xac\\xbbP\\x1d#\\xb8\\x1d\\x14r\\xa81'VdXae\\x81!\\xce\\xac\\xe8\\x98s\\xddFw\\\\F\\t\\xf7\\t\\xecC\\x9d_\\xe4\\xb3\\x85\\x1c\\xb4\\xa4\\x1e\\xd7\\xd0u\\xc9\\n\\x13\\xa3\\x0c/\\xa4\\xa8sBn3\\xb5\\xad\\x88Z\\xdf!\\xa2B\\xc0S\\xc1\\xf3+\\xdfw\\xc6\\xaa\\xaf\\xd40\\x8e,\\x13\\xc0\\x0e\\xedw\\x12\\xea\\xb5\\xa7\\xacBn@\\x1e \\x90i\\x0c\\x81\\x87-P\\x08\\xf8T\\x06\\xf3\\xf5\\xf1>\\x97UP\\x83> b\\x80\\x9d\\x0b\\xc8\\xc9Nr\\xb0\\xcd\\xa2\"\n",
      "Hi, my name is Sebastian Xavier Maximilien Hennebry and I am a Masters' student in Cybersecurity at the University of Adelaide.\n",
      "(b'\\xd6\\xca\\xdc\\xff\\xf4y\\x8f/\\x1e\\xd4\\x9c.mR[0', 4.0531158447265625e-06)\n",
      "Time Difference = 1.5109021663665771\n",
      "RSA is a more secure algorithm than AES since the difference in generation time 1.5109021663665771>0 implying that AES is faster and therefore less secure and AES will only accept two key parameters out of RSA (key size and generation time) since RSA generates prime numbers and incurs hash functions but AES does not do either of these.\n",
      "b'\\xf8X\\xcb\\x1c\\x82\\xbdL\\x83\\xa5\\x7fx6\\xa1\\x95\\xb88\\xfb?~%\\xde|\\x0ehr\\x8e\\xe4\\x14\\x8f91s\\x12YV\\xaf4\\xa9\\xb8PZ\\x93\\xd2\\xe2\\th\\xe0\\xf5u\\x08\\xd9\\x83&.\\xa1t\\x0e2Kl\\xc0\\xdf\\xd2\\xfc3\\xbaT\\xa5c\\xb0}p\\xba\\xec\\x1flL\\xf6,\\xe4k\\xdbN\\xb4\\xcb\\x12\\xe3\\r39`\\x17L5\\x9b\\xfc\\xeeZ\"7\\xc1H\\xe3\\xc7UZ\\xe7\\x88\\x9bh(\\xd0S\\xa3\\x08&_\\x94\\xef\\x88\\x94\\x0c,0\\xbf\\x8b*\\xb9'\n",
      "Hi, my name is Sebastian Xavier Maximilien Hennebry and I am a Masters' student in Cybersecurity at the University of Adelaide.\n",
      "(b'ir\\xca=i=n\\x7f', 3.0994415283203125e-06)\n",
      "Time Difference = 1.5109031200408936\n",
      "RSA is a more secure algorithm than DES since the difference in generation time 1.5109031200408936>0 implying that DES is faster and therefore less secure and DES will only accept two key parameters out of RSA (key size and generation time) since RSA generates prime numbers and incurs hash functions but DES does not do either of these.\n"
     ]
    }
   ],
   "source": [
    "\"\"\"Using if statement to develop user input prototype for testing RSA, AES and DES.\"\"\"\n",
    "if __name__ == \"__main__\":\n",
    "    rsa = RSACrypto(key_size=2048, hash_function='sha256')\n",
    "    user_input = input(\"Please enter a message:\")\n",
    "    encrypted_message = rsa.public_encrypt(user_input)\n",
    "    decrypted_message = rsa.private_decrypt(encrypted_message)\n",
    "    print(encrypted_message)\n",
    "    print(decrypted_message)\n",
    "    print(rsa.get_security_parameters())\n",
    "    key_1 = get_random_bytes(16)\n",
    "    AES_instance = AES.new(key_1, AES.MODE_ECB)\n",
    "    encrypted_AES = AES_instance.encrypt(pad(user_input.encode('utf-16'), AES.block_size))\n",
    "    decrypted_AES = unpad(AES_instance.decrypt(encrypted_AES), AES.block_size)\n",
    "    print(encrypted_AES)\n",
    "    print(decrypted_AES.decode('utf-16'))\n",
    "    print(rsa.generate_AES_key())\n",
    "    difference_1 = rsa.RSA_generation_time - rsa.AES_generation_time\n",
    "    print(\"Time Difference =\",difference_1)\n",
    "    print(f\"RSA is a more secure algorithm than AES since the difference in generation time {difference_1}>0 implying that AES is faster and therefore less secure and AES will only accept two key parameters out of RSA (key size and generation time) since RSA generates prime numbers and incurs hash functions but AES does not do either of these.\")\n",
    "    key_2 = get_random_bytes(8)\n",
    "    DES_instance = DES.new(key_2, DES.MODE_ECB)\n",
    "    encrypted_DES = DES_instance.encrypt(pad(user_input.encode('utf-8'), DES.block_size))\n",
    "    decrypted_DES = unpad(DES_instance.decrypt(encrypted_DES), DES.block_size)\n",
    "    print(encrypted_DES)\n",
    "    print(decrypted_DES.decode('utf-8'))\n",
    "    print(rsa.generate_DES_key())\n",
    "    difference_2 = rsa.RSA_generation_time - rsa.DES_generation_time\n",
    "    print(\"Time Difference =\",difference_2)\n",
    "    print(f\"RSA is a more secure algorithm than DES since the difference in generation time {difference_2}>0 implying that DES is faster and therefore less secure and DES will only accept two key parameters out of RSA (key size and generation time) since RSA generates prime numbers and incurs hash functions but DES does not do either of these.\")"
   ]
  }
 ],
 "metadata": {
  "kernelspec": {
   "display_name": "Python [conda env:3]",
   "language": "python",
   "name": "conda-env-3-py"
  },
  "language_info": {
   "codemirror_mode": {
    "name": "ipython",
    "version": 3
   },
   "file_extension": ".py",
   "mimetype": "text/x-python",
   "name": "python",
   "nbconvert_exporter": "python",
   "pygments_lexer": "ipython3",
   "version": "3.10.6"
  }
 },
 "nbformat": 4,
 "nbformat_minor": 5
}
