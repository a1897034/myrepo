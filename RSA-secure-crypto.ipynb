{
 "cells": [
  {
   "cell_type": "code",
   "execution_count": 1,
   "id": "b8e4c916",
   "metadata": {
    "jupyter": {
     "is_executing": true
    }
   },
   "outputs": [
    {
     "name": "stdout",
     "output_type": "stream",
     "text": [
      "Requirement already satisfied: pycryptodome in ./.julia/conda/3/lib/python3.10/site-packages (3.22.0)\n",
      "Requirement already satisfied: cryptography in ./.julia/conda/3/lib/python3.10/site-packages (37.0.4)\n",
      "Requirement already satisfied: cffi>=1.12 in ./.julia/conda/3/lib/python3.10/site-packages (from cryptography) (1.15.1)\n",
      "Requirement already satisfied: pycparser in ./.julia/conda/3/lib/python3.10/site-packages (from cffi>=1.12->cryptography) (2.21)\n",
      "Note: you may need to restart the kernel to use updated packages.\n"
     ]
    }
   ],
   "source": [
    "pip install pycryptodome cryptography"
   ]
  },
  {
   "cell_type": "code",
   "execution_count": 2,
   "id": "bc6fc184-c7f9-49f8-8b18-2c8a06dc1326",
   "metadata": {
    "jupyter": {
     "is_executing": true
    }
   },
   "outputs": [],
   "source": [
    "from cryptography.hazmat.primitives import asymmetric, serialization, hashes\n",
    "from cryptography.hazmat.primitives.asymmetric import padding\n",
    "from Crypto.PublicKey import RSA\n",
    "from Crypto.Cipher import DES, PKCS1_OAEP\n",
    "from Crypto.Random import get_random_bytes\n",
    "from Crypto.Util.number import getPrime\n",
    "from Crypto.Util.Padding import pad, unpad\n",
    "import socket\n",
    "import base64\n",
    "import time\n",
    "import hashlib\n",
    "\n",
    "class RSACrypto:\n",
    "    def __init__(self, key_size=2048, public_exponent=65537, prime_size=1024, hash_function='SHA-256'):\n",
    "        \"\"\"Initializes all the evaluation parameters for the algorithm.\"\"\"\n",
    "        self.key_size = key_size\n",
    "        self.public_exponent = public_exponent\n",
    "        self.hash_function = hash_function\n",
    "        self.prime_size = prime_size\n",
    "        self.RSA_generation_time = None\n",
    "        self.DES_generation_time = None\n",
    "        self.generate_keys()\n",
    "        \n",
    "    def generate_keys(self):\n",
    "        \"\"\"Generates the public and private keys for RSA with the evaluation parameters as defined above.\"\"\"\n",
    "        start_time = time.time()\n",
    "        key = RSA.generate(self.key_size, e=self.public_exponent)\n",
    "        self.private_key = key.export_key()\n",
    "        self.public_key = key.publickey().export_key()\n",
    "        self.RSA_generation_time = time.time() - start_time\n",
    "\n",
    "    def generate_DES_key(self):\n",
    "        \"\"\"Generates a single key for DES (Data Encryption Standard).\"\"\"\n",
    "        start_time = time.time()\n",
    "        key = get_random_bytes(8)\n",
    "        end_time = time.time()\n",
    "        self.DES_generation_time = end_time - start_time\n",
    "        return key, self.DES_generation_time\n",
    "    \n",
    "    def public_encrypt(self, message):\n",
    "        \"\"\"Encrypts a secure message using the public key.\"\"\"\n",
    "        if self.public_key is None:\n",
    "            raise ValueError(\"Public key not generated or loaded.\")\n",
    "        key = RSA.import_key(self.public_key)\n",
    "        cipher = PKCS1_OAEP.new(key)\n",
    "        encrypted_message = cipher.encrypt(message.encode())\n",
    "        return encrypted_message\n",
    "    \n",
    "    def private_decrypt(self, encoded_message):\n",
    "        \"\"\"Decrypts the message that was encrypted above by using the private key.\"\"\"\n",
    "        if self.private_key is None:\n",
    "            raise ValueError(\"Private key not available.\")\n",
    "        \n",
    "        key = RSA.import_key(self.private_key)\n",
    "        cipher = PKCS1_OAEP.new(key)\n",
    "        decrypted_message = cipher.decrypt(encoded_message)\n",
    "        return decrypted_message.decode()\n",
    "\n",
    "    def get_security_parameters(self):\n",
    "        \"\"\"Returns the values of the evaluation parameters.\"\"\"\n",
    "        return {\n",
    "            'Key Size': self.key_size,\n",
    "            'Public Exponent': self.public_exponent,\n",
    "            'Prime Size': self.prime_size,\n",
    "            'Hash Function': self.hash_function,\n",
    "            'RSA Key Generation Time': self.RSA_generation_time,\n",
    "            'DES Key Generation Time': self.DES_generation_time\n",
    "        }"
   ]
  },
  {
   "cell_type": "code",
   "execution_count": 3,
   "id": "a81bc4b3-dd27-4a04-b0b7-4da311557655",
   "metadata": {
    "jupyter": {
     "is_executing": true
    }
   },
   "outputs": [
    {
     "name": "stdout",
     "output_type": "stream",
     "text": [
      "{'sm3', 'shake_256', 'md5-sha1', 'sha3_224', 'sha3_384', 'md5', 'blake2b', 'whirlpool', 'ripemd160', 'md4', 'blake2s', 'sha1', 'sha512', 'shake_128', 'sha384', 'sha512_256', 'sha224', 'sha256', 'sha512_224', 'sha3_256', 'mdc2', 'sha3_512'}\n"
     ]
    }
   ],
   "source": [
    "print(hashlib.algorithms_available)"
   ]
  },
  {
   "cell_type": "code",
   "execution_count": 4,
   "id": "33d30079-5f30-4845-93cd-2095b72cad12",
   "metadata": {
    "jupyter": {
     "is_executing": true
    }
   },
   "outputs": [
    {
     "name": "stdout",
     "output_type": "stream",
     "text": [
      "Please enter a message: would it be possible?\n"
     ]
    },
    {
     "name": "stdout",
     "output_type": "stream",
     "text": [
      "b'X\\xb1\\r\\x05\\x9c\\x987\\xe6\\x88.\\xea\\x10\\xf1\\xf7\\x01\\xb7\\xb4\\xb6\\x86\\x8by\\xc4\\xedv\\xe7\\x9c\\xe3A\"\\xb9\\xd9\\x02\\xd2w\\xec\\x19G\\x02I\\'I9\\x8d\\xde\\xcc\\x1a\\x13>6\\x03\\x14:\\xbd\\xdc(\\xcb\\x13\\x80/w\\xcf\\x86t\\x05\\xa7\\x7f4\\x94\\xee\\x8b\\xaa\\xe6\\xf7\\xd1\\xf3D\\xb1qg\"\\x8e\\xe7\\xd4\\xe9\\xe5\\x81\\xb8\\x86\\xf7\\xf5\\xd0d\\x12\\xc5w7\\xaf\\xad\\x86\\xd2\\xbdsW)\\xb5\\xde2\\xdb\\x9e\\xc8^\\xf9\\x1dJ\\x9e\\x96:\\xa9\\xb9+Hp_J\\xec5\\xc8T]I\\x1e\\xbf\\xe4\\x05\\xd7L\\x03\\x9a\\x01\\x8a*V\\xa0\\xd1\\xa3j\\xad\\x83}\\x9a\\xeb\\x99L\\x115\\xeeD\\x9fv\\xee\\xb4}\\x99)\\x01L\\xc5\\x02\\xd0\\xb1\\xa0\\x11\\xf9&m\\xaa(#[W\\xf0y\\x81;\\x94\\xe6\\x0c\\x8a\\x8a*7\\x10\\xed\"\\x7f>\\xaa\\xf5:\\xcf\\x0f\\xc8\\xc4\\x0bt4J\\x92\\x85\\xd8\\xc8\\xe5!y\"\\xba\\x05\\xf2\\\\\\xae\\xe5\\x19\\xa4\\xd0T\\xd1\\xb0\\xfd\\x06N\\x8b\\x80\\x1c2OCDo \\xc9\\x08Ue\\x94TG\\x19\\x8a\\xf64\\x04\\xf3\\x023i\"'\n",
      "would it be possible?\n",
      "{'Key Size': 2048, 'Public Exponent': 65537, 'Prime Size': 1024, 'Hash Function': 'sha256', 'RSA Key Generation Time': 3.4928901195526123, 'DES Key Generation Time': None}\n",
      "b'\\xa0C\\x83\\xc5\\xc9|\\xf9\\xb5V:\\xf6u\\xb8de/U\\xa4\\n\\x8e\\x9a\\x16=\\xd7'\n",
      "would it be possible?\n",
      "(b'\\xb2f\\x17V\\xf8\\\\\\xd4L', 2.86102294921875e-06)\n",
      "Time Difference = 3.492887258529663\n",
      "RSA is a more secure algorithm than DES since the difference in generation time 3.492887258529663>0 implying that DES is faster and therefore less secure and DES will only accept two key parameters out of RSA (key size and generation time) since RSA generates prime numbers and incurs hash functions but DES does not do either of these.\n"
     ]
    }
   ],
   "source": [
    "if __name__ == \"__main__\":\n",
    "    rsa = RSACrypto(key_size=2048, hash_function='sha256')\n",
    "    user_input = input(\"Please enter a message:\")\n",
    "    encrypted_message = rsa.public_encrypt(user_input)\n",
    "    decrypted_message = rsa.private_decrypt(encrypted_message)\n",
    "    print(encrypted_message)\n",
    "    print(decrypted_message)\n",
    "    print(rsa.get_security_parameters())\n",
    "    key = get_random_bytes(8)\n",
    "    DES_instance = DES.new(key, DES.MODE_ECB)\n",
    "    encrypted_DES = DES_instance.encrypt(pad(user_input.encode('utf-8'), DES.block_size))\n",
    "    decrypted_DES = unpad(DES_instance.decrypt(encrypted_DES), DES.block_size)\n",
    "    print(encrypted_DES)\n",
    "    print(decrypted_DES.decode('utf-8'))\n",
    "    print(rsa.generate_DES_key())\n",
    "    difference = rsa.RSA_generation_time - rsa.DES_generation_time\n",
    "    print(\"Time Difference =\",difference)\n",
    "    print(f\"RSA is a more secure algorithm than DES since the difference in generation time {difference}>0 implying that DES is faster and therefore less secure and DES will only accept two key parameters out of RSA (key size and generation time) since RSA generates prime numbers and incurs hash functions but DES does not do either of these.\")"
   ]
  },
  {
   "cell_type": "code",
   "execution_count": null,
   "id": "65b2bcbdece58f78",
   "metadata": {},
   "outputs": [],
   "source": []
  },
  {
   "cell_type": "code",
   "execution_count": null,
   "id": "83c6215f-e8e1-42c7-ab3c-9c7d896ce2b7",
   "metadata": {},
   "outputs": [],
   "source": []
  }
 ],
 "metadata": {
  "kernelspec": {
   "display_name": "Julia 1.8.2",
   "language": "julia",
   "name": "julia-1.8"
  },
  "language_info": {
   "file_extension": ".jl",
   "mimetype": "application/julia",
   "name": "julia",
   "version": "1.8.2"
  }
 },
 "nbformat": 4,
 "nbformat_minor": 5
}
